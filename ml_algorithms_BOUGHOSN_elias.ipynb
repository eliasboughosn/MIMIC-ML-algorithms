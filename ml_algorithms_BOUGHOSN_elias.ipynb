{
  "nbformat": 4,
  "nbformat_minor": 0,
  "metadata": {
    "colab": {
      "name": "ml-algorithms-BOUGHOSN-elias.ipynb",
      "provenance": [],
      "collapsed_sections": [],
      "authorship_tag": "ABX9TyPHgZ2ktF8U+jo/XIMtwhnZ",
      "include_colab_link": true
    },
    "kernelspec": {
      "name": "python3",
      "display_name": "Python 3"
    }
  },
  "cells": [
    {
      "cell_type": "markdown",
      "metadata": {
        "id": "view-in-github",
        "colab_type": "text"
      },
      "source": [
        "<a href=\"https://colab.research.google.com/github/eliasboughosn/MIMIC-ML-algorithms/blob/main/ml_algorithms_BOUGHOSN_elias.ipynb\" target=\"_parent\"><img src=\"https://colab.research.google.com/assets/colab-badge.svg\" alt=\"Open In Colab\"/></a>"
      ]
    },
    {
      "cell_type": "markdown",
      "metadata": {
        "id": "TyAh45vZPwlQ"
      },
      "source": [
        "# Course: Machine Learning Algorithms\n",
        "## by Elias Boughosn"
      ]
    },
    {
      "cell_type": "markdown",
      "metadata": {
        "id": "CF9bs3dxsJM7"
      },
      "source": [
        "## 0. Table of Content\n",
        "\n",
        "1. **Introduction**\n",
        "\n",
        "    a. Introduction\n",
        "    \n",
        "    b. Library imports and built functions\n",
        "\n",
        "\n",
        "2. **Data pre-processing**\n",
        "    \n",
        "    a. Handling missing values\n",
        "\n",
        "    b. removing dead patients\n",
        "\n",
        "    c. handling TEXT variable\n",
        "    \n",
        "    d. choosing our target variable and features\n",
        "    \n",
        "    e. transforming non numerical data to categorical\n",
        "   \n",
        "   \n",
        "3. **Implementation of models**\n",
        "\n",
        "    a. Random Forest\n",
        "    \n",
        "    b. Decision Tree\n",
        "    \n",
        "    c. Naive Bayes\n",
        "    \n",
        "    d. Logistic Regression\n",
        "\n",
        "    e. knn\n",
        "\n",
        "    f. SVM\n",
        "\n",
        "    g. Boosting\n",
        "4. **Evaluation metrics**\n",
        "\n",
        "5. **Classification reports**\n",
        "\n",
        "6. **Confusion Matrices**\n",
        " \n",
        "7. **Conclusion**\n"
      ]
    },
    {
      "cell_type": "markdown",
      "metadata": {
        "id": "8fKpuc-lt7FB"
      },
      "source": [
        "# 1. Introduction\n",
        "## Some explaination about columns\n",
        "\n",
        "* Key\n",
        "    * **SUBJECT_ID**\n",
        "    * **HADM_ID**\n",
        " \n",
        "* Patient \n",
        "    * **DOB:** Date of Birth\n",
        "    * **GENDER**\n",
        "    * **MARITAL_STATUS**\n",
        "    * **ETHNICITY**\n",
        "    * **INSURANCE**\n",
        "    * **DEATHTIME:** Date of Death (if the patient has died)\n",
        "\n",
        "* Admission\n",
        "    * **ADMITTIME:** date of the admission\n",
        "    * **ADMISSION_TYPE:** type of the admission\n",
        "    * **DIAGNOSIS:** diagnosis made on admission\n",
        "    * **['blood', 'circulatory', 'congenital', 'digestive',\n",
        "       'endocrine', 'genitourinary', 'infectious', 'injury', 'mental', 'misc',\n",
        "       'muscular', 'neoplasms', 'nervous', 'pregnancy', 'prenatal',\n",
        "       'respiratory', 'skin']:** bag of word representation of DIAGNOSIS\n",
        "\n",
        "* Discharge\n",
        "    * **DISCHTIME:** date of the discharge\n",
        "    * **DISCHARGE_LOCATION:** patient's destination after discharge from hospital\n",
        "    * **TEXT:**discharge medical report\n",
        "\n",
        "* Readmission\n",
        "    * **DAYS_NEXT_ADMIT:** number of day beetween discharge and readmission\n",
        "    * **NEXT_ADMITTIME:** date of the readmission\n",
        "    * **OUTPUT_LABEL:** 0 if the patient has not been re-admitted / 1 if the patient has been re-admitted"
      ]
    },
    {
      "cell_type": "markdown",
      "metadata": {
        "id": "9up5mEg6T2t_"
      },
      "source": [
        "**warning** : Data leakage has to be handled.\n",
        "\n",
        "*   **what is data leakage?** : \n",
        "\n",
        " Data leakage occurs when there is information about the target in the training data, but when the model is used for prediction, related data will not be usable. This results in high performance (and probably even validation data) on the training set, but the model would perform poorly in development."
      ]
    },
    {
      "cell_type": "markdown",
      "metadata": {
        "id": "UXEixPeYwpYV"
      },
      "source": [
        "# 2. Library imports and built functions"
      ]
    },
    {
      "cell_type": "code",
      "metadata": {
        "id": "UVpsciz02GWO",
        "colab": {
          "base_uri": "https://localhost:8080/"
        },
        "outputId": "230aef9a-dde3-4585-86ba-40d1b7586491"
      },
      "source": [
        "from sklearn.preprocessing import StandardScaler\n",
        "from sklearn.ensemble import RandomForestRegressor, RandomForestClassifier,  GradientBoostingClassifier\n",
        "from sklearn.metrics import mean_squared_error, roc_curve, auc\n",
        "from sklearn.tree import DecisionTreeRegressor, plot_tree, DecisionTreeClassifier\n",
        "from sklearn.model_selection import train_test_split, cross_val_score\n",
        "from nltk.stem import PorterStemmer\n",
        "from nltk.tokenize import sent_tokenize, word_tokenize\n",
        "from nltk.stem import WordNetLemmatizer\n",
        "from nltk.corpus import stopwords\n",
        "from nltk.tokenize import word_tokenize\n",
        "from sklearn.feature_extraction.text import CountVectorizer\n",
        "from sklearn.decomposition import PCA\n",
        "from sklearn.linear_model import LogisticRegression\n",
        "from sklearn.naive_bayes import BernoulliNB\n",
        "from sklearn.metrics import classification_report\n",
        "from yellowbrick.classifier import ConfusionMatrix\n",
        "from sklearn.model_selection import GridSearchCV\n",
        "from sklearn.neighbors import KNeighborsClassifier\n",
        "from sklearn.svm import SVC \n",
        "from matplotlib.legend_handler import HandlerLine2D\n",
        "\n",
        "\n",
        "\n",
        "import matplotlib.pyplot as plt\n",
        "import numpy as np\n",
        "import random as rd\n",
        "import pandas as pd\n",
        "import datetime as dt\n",
        "import nltk "
      ],
      "execution_count": null,
      "outputs": [
        {
          "output_type": "stream",
          "text": [
            "/usr/local/lib/python3.7/dist-packages/sklearn/utils/deprecation.py:144: FutureWarning: The sklearn.metrics.classification module is  deprecated in version 0.22 and will be removed in version 0.24. The corresponding classes / functions should instead be imported from sklearn.metrics. Anything that cannot be imported from sklearn.metrics is now part of the private API.\n",
            "  warnings.warn(message, FutureWarning)\n"
          ],
          "name": "stderr"
        }
      ]
    },
    {
      "cell_type": "code",
      "metadata": {
        "colab": {
          "base_uri": "https://localhost:8080/"
        },
        "id": "isshFVVgXi_K",
        "outputId": "07ef03fe-a701-4a34-b1ae-25a83af84922"
      },
      "source": [
        "nltk.download('punkt')\n",
        "nltk.download('stopwords')\n",
        "nltk.download('wordnet')"
      ],
      "execution_count": null,
      "outputs": [
        {
          "output_type": "stream",
          "text": [
            "[nltk_data] Downloading package punkt to /root/nltk_data...\n",
            "[nltk_data]   Unzipping tokenizers/punkt.zip.\n",
            "[nltk_data] Downloading package stopwords to /root/nltk_data...\n",
            "[nltk_data]   Unzipping corpora/stopwords.zip.\n",
            "[nltk_data] Downloading package wordnet to /root/nltk_data...\n",
            "[nltk_data]   Unzipping corpora/wordnet.zip.\n"
          ],
          "name": "stdout"
        },
        {
          "output_type": "execute_result",
          "data": {
            "text/plain": [
              "True"
            ]
          },
          "metadata": {
            "tags": []
          },
          "execution_count": 2
        }
      ]
    },
    {
      "cell_type": "code",
      "metadata": {
        "id": "8Fjvexl-X2sU"
      },
      "source": [
        "def remove_stop_words(tokenized_sentence):\n",
        "    \"\"\"\n",
        "    Removes the stop words from a tokenized sentence  \n",
        "    \"\"\"\n",
        "    punctuation = [\".\", \",\", \"[\", \"]\", \"`\", \"(\", \")\", \"?\", \"'\", \"'s\", \":\", \"!\"]\n",
        "    stop_words = stopwords.words('english')\n",
        "    stop_words += punctuation\n",
        "    return [w for w in tokenized_sentence if w not in stop_words]\n",
        "    \n",
        "def lemmatize(tokenized_sentence):\n",
        "    \"\"\"\n",
        "    Create a lemmatizer object and lematized tokenized items (e.g. sentences)\n",
        "    Might require running the following:\n",
        "        nltk.download('wordnet')\n",
        "    \"\"\"\n",
        "    lemmatizer = nltk.WordNetLemmatizer()\n",
        "    return [lemmatizer.lemmatize(w) for w in tokenized_sentence]\n",
        "\n",
        "sentence_processing = lambda sentence: \" \".join(\n",
        "    lemmatize(\n",
        "        remove_stop_words(\n",
        "            word_tokenize(str.lower(str(sentence)))\n",
        "        )\n",
        "    )\n",
        ")"
      ],
      "execution_count": null,
      "outputs": []
    },
    {
      "cell_type": "markdown",
      "metadata": {
        "id": "QYWxKQLmxR6S"
      },
      "source": [
        "# 3. Data pre-processing"
      ]
    },
    {
      "cell_type": "markdown",
      "metadata": {
        "id": "TY56fVRR5TVu"
      },
      "source": [
        "## importing our Data"
      ]
    },
    {
      "cell_type": "code",
      "metadata": {
        "colab": {
          "base_uri": "https://localhost:8080/",
          "height": 501
        },
        "id": "fohNNi66okor",
        "outputId": "1b24becc-f3aa-4da8-a1d4-036ca7a8da8a"
      },
      "source": [
        "df_train = pd.read_csv(\"http://www.i3s.unice.fr/~riveill/dataset/MIMIC-III-readmission/train.csv.zip\")\n",
        "df_test = pd.read_csv(\"http://www.i3s.unice.fr/~riveill/dataset/MIMIC-III-readmission/test.csv.zip\")\n",
        "df_train.head()"
      ],
      "execution_count": null,
      "outputs": [
        {
          "output_type": "execute_result",
          "data": {
            "text/html": [
              "<div>\n",
              "<style scoped>\n",
              "    .dataframe tbody tr th:only-of-type {\n",
              "        vertical-align: middle;\n",
              "    }\n",
              "\n",
              "    .dataframe tbody tr th {\n",
              "        vertical-align: top;\n",
              "    }\n",
              "\n",
              "    .dataframe thead th {\n",
              "        text-align: right;\n",
              "    }\n",
              "</style>\n",
              "<table border=\"1\" class=\"dataframe\">\n",
              "  <thead>\n",
              "    <tr style=\"text-align: right;\">\n",
              "      <th></th>\n",
              "      <th>SUBJECT_ID</th>\n",
              "      <th>HADM_ID</th>\n",
              "      <th>ADMITTIME</th>\n",
              "      <th>DISCHTIME</th>\n",
              "      <th>DAYS_NEXT_ADMIT</th>\n",
              "      <th>NEXT_ADMITTIME</th>\n",
              "      <th>ADMISSION_TYPE</th>\n",
              "      <th>DEATHTIME</th>\n",
              "      <th>DISCHARGE_LOCATION</th>\n",
              "      <th>INSURANCE</th>\n",
              "      <th>MARITAL_STATUS</th>\n",
              "      <th>ETHNICITY</th>\n",
              "      <th>DIAGNOSIS</th>\n",
              "      <th>TEXT</th>\n",
              "      <th>GENDER</th>\n",
              "      <th>DOB</th>\n",
              "      <th>blood</th>\n",
              "      <th>circulatory</th>\n",
              "      <th>congenital</th>\n",
              "      <th>digestive</th>\n",
              "      <th>endocrine</th>\n",
              "      <th>genitourinary</th>\n",
              "      <th>infectious</th>\n",
              "      <th>injury</th>\n",
              "      <th>mental</th>\n",
              "      <th>misc</th>\n",
              "      <th>muscular</th>\n",
              "      <th>neoplasms</th>\n",
              "      <th>nervous</th>\n",
              "      <th>pregnancy</th>\n",
              "      <th>prenatal</th>\n",
              "      <th>respiratory</th>\n",
              "      <th>skin</th>\n",
              "      <th>OUTPUT_LABEL</th>\n",
              "    </tr>\n",
              "  </thead>\n",
              "  <tbody>\n",
              "    <tr>\n",
              "      <th>0</th>\n",
              "      <td>937</td>\n",
              "      <td>148592</td>\n",
              "      <td>2163-01-20 18:39:00</td>\n",
              "      <td>2163-01-24 08:00:00</td>\n",
              "      <td>0.061806</td>\n",
              "      <td>2163-01-24 09:29:00</td>\n",
              "      <td>EMERGENCY</td>\n",
              "      <td>2163-01-26 08:00:00</td>\n",
              "      <td>DEAD/EXPIRED</td>\n",
              "      <td>Medicare</td>\n",
              "      <td>NaN</td>\n",
              "      <td>OTHER/UNKNOWN</td>\n",
              "      <td>INTRACRANIAL HEMORRHAGE</td>\n",
              "      <td>Admission Date:  [**2163-1-20**]              ...</td>\n",
              "      <td>M</td>\n",
              "      <td>2087-09-24 00:00:00</td>\n",
              "      <td>0</td>\n",
              "      <td>4</td>\n",
              "      <td>0</td>\n",
              "      <td>0</td>\n",
              "      <td>1</td>\n",
              "      <td>0</td>\n",
              "      <td>0</td>\n",
              "      <td>2</td>\n",
              "      <td>0</td>\n",
              "      <td>0</td>\n",
              "      <td>0</td>\n",
              "      <td>0</td>\n",
              "      <td>1</td>\n",
              "      <td>0</td>\n",
              "      <td>0</td>\n",
              "      <td>0</td>\n",
              "      <td>0</td>\n",
              "      <td>1</td>\n",
              "    </tr>\n",
              "    <tr>\n",
              "      <th>1</th>\n",
              "      <td>3016</td>\n",
              "      <td>159142</td>\n",
              "      <td>2107-01-23 02:45:00</td>\n",
              "      <td>2107-01-26 14:00:00</td>\n",
              "      <td>NaN</td>\n",
              "      <td>NaN</td>\n",
              "      <td>EMERGENCY</td>\n",
              "      <td>NaN</td>\n",
              "      <td>HOME HEALTH CARE</td>\n",
              "      <td>Medicare</td>\n",
              "      <td>MARRIED</td>\n",
              "      <td>WHITE</td>\n",
              "      <td>GASTROINTESTINAL BLEED</td>\n",
              "      <td>Admission Date:  [**2107-1-23**]     Discharge...</td>\n",
              "      <td>M</td>\n",
              "      <td>2028-04-07 00:00:00</td>\n",
              "      <td>0</td>\n",
              "      <td>2</td>\n",
              "      <td>0</td>\n",
              "      <td>2</td>\n",
              "      <td>1</td>\n",
              "      <td>0</td>\n",
              "      <td>0</td>\n",
              "      <td>1</td>\n",
              "      <td>2</td>\n",
              "      <td>0</td>\n",
              "      <td>0</td>\n",
              "      <td>0</td>\n",
              "      <td>0</td>\n",
              "      <td>0</td>\n",
              "      <td>0</td>\n",
              "      <td>1</td>\n",
              "      <td>0</td>\n",
              "      <td>0</td>\n",
              "    </tr>\n",
              "    <tr>\n",
              "      <th>2</th>\n",
              "      <td>2187</td>\n",
              "      <td>186282</td>\n",
              "      <td>2134-06-24 23:30:00</td>\n",
              "      <td>2134-07-02 17:45:00</td>\n",
              "      <td>NaN</td>\n",
              "      <td>NaN</td>\n",
              "      <td>EMERGENCY</td>\n",
              "      <td>NaN</td>\n",
              "      <td>REHAB/DISTINCT PART HOSP</td>\n",
              "      <td>Medicaid</td>\n",
              "      <td>SINGLE</td>\n",
              "      <td>WHITE</td>\n",
              "      <td>PNEUMONIA</td>\n",
              "      <td>Admission Date:  [**2134-6-24**]              ...</td>\n",
              "      <td>M</td>\n",
              "      <td>2087-11-05 00:00:00</td>\n",
              "      <td>1</td>\n",
              "      <td>2</td>\n",
              "      <td>0</td>\n",
              "      <td>0</td>\n",
              "      <td>6</td>\n",
              "      <td>1</td>\n",
              "      <td>1</td>\n",
              "      <td>4</td>\n",
              "      <td>1</td>\n",
              "      <td>2</td>\n",
              "      <td>1</td>\n",
              "      <td>0</td>\n",
              "      <td>3</td>\n",
              "      <td>0</td>\n",
              "      <td>0</td>\n",
              "      <td>4</td>\n",
              "      <td>0</td>\n",
              "      <td>0</td>\n",
              "    </tr>\n",
              "    <tr>\n",
              "      <th>3</th>\n",
              "      <td>19213</td>\n",
              "      <td>140312</td>\n",
              "      <td>2202-11-02 12:32:00</td>\n",
              "      <td>2202-11-05 14:20:00</td>\n",
              "      <td>12.968056</td>\n",
              "      <td>2202-11-18 13:34:00</td>\n",
              "      <td>EMERGENCY</td>\n",
              "      <td>NaN</td>\n",
              "      <td>HOME</td>\n",
              "      <td>Medicare</td>\n",
              "      <td>SINGLE</td>\n",
              "      <td>BLACK/AFRICAN AMERICAN</td>\n",
              "      <td>INTRACTABLE NAUSEA,VOMITING</td>\n",
              "      <td>Admission Date:  [**2202-11-2**]     Discharge...</td>\n",
              "      <td>F</td>\n",
              "      <td>2168-10-06 00:00:00</td>\n",
              "      <td>0</td>\n",
              "      <td>1</td>\n",
              "      <td>0</td>\n",
              "      <td>1</td>\n",
              "      <td>3</td>\n",
              "      <td>1</td>\n",
              "      <td>0</td>\n",
              "      <td>1</td>\n",
              "      <td>0</td>\n",
              "      <td>0</td>\n",
              "      <td>0</td>\n",
              "      <td>0</td>\n",
              "      <td>0</td>\n",
              "      <td>0</td>\n",
              "      <td>0</td>\n",
              "      <td>1</td>\n",
              "      <td>1</td>\n",
              "      <td>1</td>\n",
              "    </tr>\n",
              "    <tr>\n",
              "      <th>4</th>\n",
              "      <td>425</td>\n",
              "      <td>118058</td>\n",
              "      <td>2149-05-13 12:23:00</td>\n",
              "      <td>2149-05-26 20:00:00</td>\n",
              "      <td>NaN</td>\n",
              "      <td>NaN</td>\n",
              "      <td>EMERGENCY</td>\n",
              "      <td>NaN</td>\n",
              "      <td>HOME HEALTH CARE</td>\n",
              "      <td>Medicare</td>\n",
              "      <td>NaN</td>\n",
              "      <td>OTHER/UNKNOWN</td>\n",
              "      <td>HYPERPARATHYROIDISM</td>\n",
              "      <td>Admission Date:  [**2149-5-13**]              ...</td>\n",
              "      <td>F</td>\n",
              "      <td>2091-10-09 00:00:00</td>\n",
              "      <td>0</td>\n",
              "      <td>8</td>\n",
              "      <td>0</td>\n",
              "      <td>0</td>\n",
              "      <td>3</td>\n",
              "      <td>3</td>\n",
              "      <td>0</td>\n",
              "      <td>3</td>\n",
              "      <td>0</td>\n",
              "      <td>0</td>\n",
              "      <td>0</td>\n",
              "      <td>0</td>\n",
              "      <td>0</td>\n",
              "      <td>0</td>\n",
              "      <td>0</td>\n",
              "      <td>2</td>\n",
              "      <td>1</td>\n",
              "      <td>0</td>\n",
              "    </tr>\n",
              "  </tbody>\n",
              "</table>\n",
              "</div>"
            ],
            "text/plain": [
              "   SUBJECT_ID  HADM_ID            ADMITTIME  ... respiratory  skin OUTPUT_LABEL\n",
              "0         937   148592  2163-01-20 18:39:00  ...           0     0            1\n",
              "1        3016   159142  2107-01-23 02:45:00  ...           1     0            0\n",
              "2        2187   186282  2134-06-24 23:30:00  ...           4     0            0\n",
              "3       19213   140312  2202-11-02 12:32:00  ...           1     1            1\n",
              "4         425   118058  2149-05-13 12:23:00  ...           2     1            0\n",
              "\n",
              "[5 rows x 34 columns]"
            ]
          },
          "metadata": {
            "tags": []
          },
          "execution_count": 4
        }
      ]
    },
    {
      "cell_type": "code",
      "metadata": {
        "colab": {
          "base_uri": "https://localhost:8080/",
          "height": 307
        },
        "id": "dtYlUL7hyymo",
        "outputId": "f3e01f26-e1ec-4127-af8c-42bdcad3c550"
      },
      "source": [
        "df_train.describe()"
      ],
      "execution_count": null,
      "outputs": [
        {
          "output_type": "execute_result",
          "data": {
            "text/html": [
              "<div>\n",
              "<style scoped>\n",
              "    .dataframe tbody tr th:only-of-type {\n",
              "        vertical-align: middle;\n",
              "    }\n",
              "\n",
              "    .dataframe tbody tr th {\n",
              "        vertical-align: top;\n",
              "    }\n",
              "\n",
              "    .dataframe thead th {\n",
              "        text-align: right;\n",
              "    }\n",
              "</style>\n",
              "<table border=\"1\" class=\"dataframe\">\n",
              "  <thead>\n",
              "    <tr style=\"text-align: right;\">\n",
              "      <th></th>\n",
              "      <th>SUBJECT_ID</th>\n",
              "      <th>HADM_ID</th>\n",
              "      <th>DAYS_NEXT_ADMIT</th>\n",
              "      <th>blood</th>\n",
              "      <th>circulatory</th>\n",
              "      <th>congenital</th>\n",
              "      <th>digestive</th>\n",
              "      <th>endocrine</th>\n",
              "      <th>genitourinary</th>\n",
              "      <th>infectious</th>\n",
              "      <th>injury</th>\n",
              "      <th>mental</th>\n",
              "      <th>misc</th>\n",
              "      <th>muscular</th>\n",
              "      <th>neoplasms</th>\n",
              "      <th>nervous</th>\n",
              "      <th>pregnancy</th>\n",
              "      <th>prenatal</th>\n",
              "      <th>respiratory</th>\n",
              "      <th>skin</th>\n",
              "      <th>OUTPUT_LABEL</th>\n",
              "    </tr>\n",
              "  </thead>\n",
              "  <tbody>\n",
              "    <tr>\n",
              "      <th>count</th>\n",
              "      <td>2000.000000</td>\n",
              "      <td>2000.000000</td>\n",
              "      <td>1210.000000</td>\n",
              "      <td>2000.000000</td>\n",
              "      <td>2000.000000</td>\n",
              "      <td>2000.000000</td>\n",
              "      <td>2000.000000</td>\n",
              "      <td>2000.000000</td>\n",
              "      <td>2000.000000</td>\n",
              "      <td>2000.000000</td>\n",
              "      <td>2000.000000</td>\n",
              "      <td>2000.000000</td>\n",
              "      <td>2000.000000</td>\n",
              "      <td>2000.000000</td>\n",
              "      <td>2000.000000</td>\n",
              "      <td>2000.000000</td>\n",
              "      <td>2000.000000</td>\n",
              "      <td>2000.000000</td>\n",
              "      <td>2000.000000</td>\n",
              "      <td>2000.000000</td>\n",
              "      <td>2000.0000</td>\n",
              "    </tr>\n",
              "    <tr>\n",
              "      <th>mean</th>\n",
              "      <td>18155.690500</td>\n",
              "      <td>150103.483000</td>\n",
              "      <td>119.883433</td>\n",
              "      <td>0.482500</td>\n",
              "      <td>2.858000</td>\n",
              "      <td>0.036000</td>\n",
              "      <td>0.747500</td>\n",
              "      <td>1.389000</td>\n",
              "      <td>0.660500</td>\n",
              "      <td>0.438500</td>\n",
              "      <td>2.206000</td>\n",
              "      <td>0.447500</td>\n",
              "      <td>0.430500</td>\n",
              "      <td>0.216000</td>\n",
              "      <td>0.255500</td>\n",
              "      <td>0.421000</td>\n",
              "      <td>0.008000</td>\n",
              "      <td>0.119000</td>\n",
              "      <td>0.972500</td>\n",
              "      <td>0.189000</td>\n",
              "      <td>0.5050</td>\n",
              "    </tr>\n",
              "    <tr>\n",
              "      <th>std</th>\n",
              "      <td>26240.378348</td>\n",
              "      <td>29205.036893</td>\n",
              "      <td>404.753993</td>\n",
              "      <td>0.735503</td>\n",
              "      <td>2.253969</td>\n",
              "      <td>0.196783</td>\n",
              "      <td>1.179593</td>\n",
              "      <td>1.329121</td>\n",
              "      <td>0.895902</td>\n",
              "      <td>0.809658</td>\n",
              "      <td>2.233172</td>\n",
              "      <td>0.847114</td>\n",
              "      <td>0.739894</td>\n",
              "      <td>0.544511</td>\n",
              "      <td>0.704605</td>\n",
              "      <td>0.801299</td>\n",
              "      <td>0.151484</td>\n",
              "      <td>0.376709</td>\n",
              "      <td>1.199359</td>\n",
              "      <td>0.551753</td>\n",
              "      <td>0.5001</td>\n",
              "    </tr>\n",
              "    <tr>\n",
              "      <th>min</th>\n",
              "      <td>11.000000</td>\n",
              "      <td>100095.000000</td>\n",
              "      <td>-0.602083</td>\n",
              "      <td>0.000000</td>\n",
              "      <td>0.000000</td>\n",
              "      <td>0.000000</td>\n",
              "      <td>0.000000</td>\n",
              "      <td>0.000000</td>\n",
              "      <td>0.000000</td>\n",
              "      <td>0.000000</td>\n",
              "      <td>0.000000</td>\n",
              "      <td>0.000000</td>\n",
              "      <td>0.000000</td>\n",
              "      <td>0.000000</td>\n",
              "      <td>0.000000</td>\n",
              "      <td>0.000000</td>\n",
              "      <td>0.000000</td>\n",
              "      <td>0.000000</td>\n",
              "      <td>0.000000</td>\n",
              "      <td>0.000000</td>\n",
              "      <td>0.0000</td>\n",
              "    </tr>\n",
              "    <tr>\n",
              "      <th>25%</th>\n",
              "      <td>1490.500000</td>\n",
              "      <td>124979.500000</td>\n",
              "      <td>5.383333</td>\n",
              "      <td>0.000000</td>\n",
              "      <td>1.000000</td>\n",
              "      <td>0.000000</td>\n",
              "      <td>0.000000</td>\n",
              "      <td>0.000000</td>\n",
              "      <td>0.000000</td>\n",
              "      <td>0.000000</td>\n",
              "      <td>0.000000</td>\n",
              "      <td>0.000000</td>\n",
              "      <td>0.000000</td>\n",
              "      <td>0.000000</td>\n",
              "      <td>0.000000</td>\n",
              "      <td>0.000000</td>\n",
              "      <td>0.000000</td>\n",
              "      <td>0.000000</td>\n",
              "      <td>0.000000</td>\n",
              "      <td>0.000000</td>\n",
              "      <td>0.0000</td>\n",
              "    </tr>\n",
              "    <tr>\n",
              "      <th>50%</th>\n",
              "      <td>3103.500000</td>\n",
              "      <td>150743.500000</td>\n",
              "      <td>13.219792</td>\n",
              "      <td>0.000000</td>\n",
              "      <td>3.000000</td>\n",
              "      <td>0.000000</td>\n",
              "      <td>0.000000</td>\n",
              "      <td>1.000000</td>\n",
              "      <td>0.000000</td>\n",
              "      <td>0.000000</td>\n",
              "      <td>2.000000</td>\n",
              "      <td>0.000000</td>\n",
              "      <td>0.000000</td>\n",
              "      <td>0.000000</td>\n",
              "      <td>0.000000</td>\n",
              "      <td>0.000000</td>\n",
              "      <td>0.000000</td>\n",
              "      <td>0.000000</td>\n",
              "      <td>1.000000</td>\n",
              "      <td>0.000000</td>\n",
              "      <td>1.0000</td>\n",
              "    </tr>\n",
              "    <tr>\n",
              "      <th>75%</th>\n",
              "      <td>25072.750000</td>\n",
              "      <td>174570.750000</td>\n",
              "      <td>25.327951</td>\n",
              "      <td>1.000000</td>\n",
              "      <td>4.000000</td>\n",
              "      <td>0.000000</td>\n",
              "      <td>1.000000</td>\n",
              "      <td>2.000000</td>\n",
              "      <td>1.000000</td>\n",
              "      <td>1.000000</td>\n",
              "      <td>3.000000</td>\n",
              "      <td>1.000000</td>\n",
              "      <td>1.000000</td>\n",
              "      <td>0.000000</td>\n",
              "      <td>0.000000</td>\n",
              "      <td>1.000000</td>\n",
              "      <td>0.000000</td>\n",
              "      <td>0.000000</td>\n",
              "      <td>2.000000</td>\n",
              "      <td>0.000000</td>\n",
              "      <td>1.0000</td>\n",
              "    </tr>\n",
              "    <tr>\n",
              "      <th>max</th>\n",
              "      <td>99562.000000</td>\n",
              "      <td>199955.000000</td>\n",
              "      <td>3867.977778</td>\n",
              "      <td>5.000000</td>\n",
              "      <td>13.000000</td>\n",
              "      <td>2.000000</td>\n",
              "      <td>9.000000</td>\n",
              "      <td>10.000000</td>\n",
              "      <td>4.000000</td>\n",
              "      <td>7.000000</td>\n",
              "      <td>15.000000</td>\n",
              "      <td>9.000000</td>\n",
              "      <td>5.000000</td>\n",
              "      <td>5.000000</td>\n",
              "      <td>8.000000</td>\n",
              "      <td>7.000000</td>\n",
              "      <td>4.000000</td>\n",
              "      <td>5.000000</td>\n",
              "      <td>6.000000</td>\n",
              "      <td>6.000000</td>\n",
              "      <td>1.0000</td>\n",
              "    </tr>\n",
              "  </tbody>\n",
              "</table>\n",
              "</div>"
            ],
            "text/plain": [
              "         SUBJECT_ID        HADM_ID  ...         skin  OUTPUT_LABEL\n",
              "count   2000.000000    2000.000000  ...  2000.000000     2000.0000\n",
              "mean   18155.690500  150103.483000  ...     0.189000        0.5050\n",
              "std    26240.378348   29205.036893  ...     0.551753        0.5001\n",
              "min       11.000000  100095.000000  ...     0.000000        0.0000\n",
              "25%     1490.500000  124979.500000  ...     0.000000        0.0000\n",
              "50%     3103.500000  150743.500000  ...     0.000000        1.0000\n",
              "75%    25072.750000  174570.750000  ...     0.000000        1.0000\n",
              "max    99562.000000  199955.000000  ...     6.000000        1.0000\n",
              "\n",
              "[8 rows x 21 columns]"
            ]
          },
          "metadata": {
            "tags": []
          },
          "execution_count": 5
        }
      ]
    },
    {
      "cell_type": "code",
      "metadata": {
        "colab": {
          "base_uri": "https://localhost:8080/"
        },
        "id": "oNG6bx6Cy5T5",
        "outputId": "ba65bd64-c333-411f-cc91-4491c3f8e69e"
      },
      "source": [
        "df_train.info()"
      ],
      "execution_count": null,
      "outputs": [
        {
          "output_type": "stream",
          "text": [
            "<class 'pandas.core.frame.DataFrame'>\n",
            "RangeIndex: 2000 entries, 0 to 1999\n",
            "Data columns (total 34 columns):\n",
            " #   Column              Non-Null Count  Dtype  \n",
            "---  ------              --------------  -----  \n",
            " 0   SUBJECT_ID          2000 non-null   int64  \n",
            " 1   HADM_ID             2000 non-null   int64  \n",
            " 2   ADMITTIME           2000 non-null   object \n",
            " 3   DISCHTIME           2000 non-null   object \n",
            " 4   DAYS_NEXT_ADMIT     1210 non-null   float64\n",
            " 5   NEXT_ADMITTIME      1210 non-null   object \n",
            " 6   ADMISSION_TYPE      2000 non-null   object \n",
            " 7   DEATHTIME           158 non-null    object \n",
            " 8   DISCHARGE_LOCATION  2000 non-null   object \n",
            " 9   INSURANCE           2000 non-null   object \n",
            " 10  MARITAL_STATUS      1924 non-null   object \n",
            " 11  ETHNICITY           2000 non-null   object \n",
            " 12  DIAGNOSIS           1998 non-null   object \n",
            " 13  TEXT                1925 non-null   object \n",
            " 14  GENDER              2000 non-null   object \n",
            " 15  DOB                 2000 non-null   object \n",
            " 16  blood               2000 non-null   int64  \n",
            " 17  circulatory         2000 non-null   int64  \n",
            " 18  congenital          2000 non-null   int64  \n",
            " 19  digestive           2000 non-null   int64  \n",
            " 20  endocrine           2000 non-null   int64  \n",
            " 21  genitourinary       2000 non-null   int64  \n",
            " 22  infectious          2000 non-null   int64  \n",
            " 23  injury              2000 non-null   int64  \n",
            " 24  mental              2000 non-null   int64  \n",
            " 25  misc                2000 non-null   int64  \n",
            " 26  muscular            2000 non-null   int64  \n",
            " 27  neoplasms           2000 non-null   int64  \n",
            " 28  nervous             2000 non-null   int64  \n",
            " 29  pregnancy           2000 non-null   int64  \n",
            " 30  prenatal            2000 non-null   int64  \n",
            " 31  respiratory         2000 non-null   int64  \n",
            " 32  skin                2000 non-null   int64  \n",
            " 33  OUTPUT_LABEL        2000 non-null   int64  \n",
            "dtypes: float64(1), int64(20), object(13)\n",
            "memory usage: 531.4+ KB\n"
          ],
          "name": "stdout"
        }
      ]
    },
    {
      "cell_type": "markdown",
      "metadata": {
        "id": "sdHTzjmokAu8"
      },
      "source": [
        "## Checking null values for all the columns that will be our features\n"
      ]
    },
    {
      "cell_type": "code",
      "metadata": {
        "colab": {
          "base_uri": "https://localhost:8080/"
        },
        "id": "yTxfIgDej7QE",
        "outputId": "8a039016-f827-4c32-f1f3-5995bee54793"
      },
      "source": [
        "#  'DOB_cat', 'gender_cat',  'ethnicity_cat', 'Insurance_cat',\n",
        "#  'blood', 'circulatory', 'congenital', 'digestive', 'endocrine', 'genitourinary', 'infectious', 'injury',  'misc', 'muscular','DISCHARGE_LOCATION_',\n",
        "#   'neoplasms', 'nervous', 'pregnancy', 'prenatal', 'respiratory', 'skin'\n",
        "print(df_train.isnull().sum(),\n",
        "      df_test.isnull().sum(),\n",
        "      sep=\"\\n\\n\")"
      ],
      "execution_count": null,
      "outputs": [
        {
          "output_type": "stream",
          "text": [
            "SUBJECT_ID               0\n",
            "HADM_ID                  0\n",
            "ADMITTIME                0\n",
            "DISCHTIME                0\n",
            "DAYS_NEXT_ADMIT        790\n",
            "NEXT_ADMITTIME         790\n",
            "ADMISSION_TYPE           0\n",
            "DEATHTIME             1842\n",
            "DISCHARGE_LOCATION       0\n",
            "INSURANCE                0\n",
            "MARITAL_STATUS          76\n",
            "ETHNICITY                0\n",
            "DIAGNOSIS                2\n",
            "TEXT                    75\n",
            "GENDER                   0\n",
            "DOB                      0\n",
            "blood                    0\n",
            "circulatory              0\n",
            "congenital               0\n",
            "digestive                0\n",
            "endocrine                0\n",
            "genitourinary            0\n",
            "infectious               0\n",
            "injury                   0\n",
            "mental                   0\n",
            "misc                     0\n",
            "muscular                 0\n",
            "neoplasms                0\n",
            "nervous                  0\n",
            "pregnancy                0\n",
            "prenatal                 0\n",
            "respiratory              0\n",
            "skin                     0\n",
            "OUTPUT_LABEL             0\n",
            "dtype: int64\n",
            "\n",
            "SUBJECT_ID              0\n",
            "HADM_ID                 0\n",
            "ADMITTIME               0\n",
            "DISCHTIME               0\n",
            "DAYS_NEXT_ADMIT       375\n",
            "NEXT_ADMITTIME        375\n",
            "ADMISSION_TYPE          0\n",
            "DEATHTIME             843\n",
            "DISCHARGE_LOCATION      0\n",
            "INSURANCE               0\n",
            "MARITAL_STATUS         40\n",
            "ETHNICITY               0\n",
            "DIAGNOSIS               0\n",
            "TEXT                   30\n",
            "GENDER                  0\n",
            "DOB                     0\n",
            "blood                   0\n",
            "circulatory             0\n",
            "congenital              0\n",
            "digestive               0\n",
            "endocrine               0\n",
            "genitourinary           0\n",
            "infectious              0\n",
            "injury                  0\n",
            "mental                  0\n",
            "misc                    0\n",
            "muscular                0\n",
            "neoplasms               0\n",
            "nervous                 0\n",
            "pregnancy               0\n",
            "prenatal                0\n",
            "respiratory             0\n",
            "skin                    0\n",
            "OUTPUT_LABEL            0\n",
            "dtype: int64\n"
          ],
          "name": "stdout"
        }
      ]
    },
    {
      "cell_type": "markdown",
      "metadata": {
        "id": "i_8-Yeuekfm7"
      },
      "source": [
        "## Removing rows with no MARITAL_STATUS values"
      ]
    },
    {
      "cell_type": "code",
      "metadata": {
        "id": "dXdhR70tkeef"
      },
      "source": [
        "df_train = df_train[df_train.MARITAL_STATUS.notnull() ]\n",
        "df_test= df_test[df_test.MARITAL_STATUS.notnull()]"
      ],
      "execution_count": null,
      "outputs": []
    },
    {
      "cell_type": "markdown",
      "metadata": {
        "id": "yrlYkW6azDAi"
      },
      "source": [
        "## Since we are being carfull about data leakage, we notice that \"DEATHTIME\" variable gives away too much information about re-admission because being dead obviously means the patient will not be re-admitted to the hospital. On the other hand, it is wrong to use dead patients to predict the outcome of living patients being re-admitted or not. Therefore we will remove all rows that have a deathtime, which means all rows of dead patients"
      ]
    },
    {
      "cell_type": "code",
      "metadata": {
        "id": "dmK63cR7pLND"
      },
      "source": [
        "df_train = df_train[df_train['DEATHTIME'].isnull()]\n",
        "df_test= df_test[df_test['DEATHTIME'].isnull()]"
      ],
      "execution_count": null,
      "outputs": []
    },
    {
      "cell_type": "markdown",
      "metadata": {
        "id": "Mu_OTrly0DR3"
      },
      "source": [
        "## We will first pre-process the 'TEXT' variable, where we remove punctuation and stop words, and we will also use a lemmatizer"
      ]
    },
    {
      "cell_type": "code",
      "metadata": {
        "id": "T0LvKnKPX7-S"
      },
      "source": [
        "# Pre-processing the content of the TEXT column\n",
        "df_train[\"TEXT\"] = df_train[\"TEXT\"].apply(sentence_processing)\n",
        "df_test[\"TEXT\"] = df_test[\"TEXT\"].apply(sentence_processing)"
      ],
      "execution_count": null,
      "outputs": []
    },
    {
      "cell_type": "markdown",
      "metadata": {
        "id": "ZRL9VN371lYj"
      },
      "source": [
        "## Now we will Convert the \"text\" variable to a matrix of token counts"
      ]
    },
    {
      "cell_type": "code",
      "metadata": {
        "colab": {
          "base_uri": "https://localhost:8080/"
        },
        "id": "CcAuOQn5YCE6",
        "outputId": "1af8ad4f-b597-435b-c025-10cca18c4936"
      },
      "source": [
        "fe = CountVectorizer() \n",
        "X_train_enc = fe.fit_transform(df_train[\"TEXT\"]).toarray()\n",
        "print(X_train_enc.shape)\n",
        "fe = CountVectorizer() \n",
        "X_test_enc = fe.fit_transform(df_test[\"TEXT\"]).toarray()\n",
        "print(X_test_enc.shape)"
      ],
      "execution_count": null,
      "outputs": [
        {
          "output_type": "stream",
          "text": [
            "(1784, 33842)\n",
            "(812, 23588)\n"
          ],
          "name": "stdout"
        }
      ]
    },
    {
      "cell_type": "markdown",
      "metadata": {
        "id": "v_eKLo-E1v_V"
      },
      "source": [
        "## Now we reshape these matrices using PCA to 3-dimensions, and create 3 columns that we add to our features"
      ]
    },
    {
      "cell_type": "code",
      "metadata": {
        "id": "iRWKWyzOYDvT"
      },
      "source": [
        "pca = PCA(3)\n",
        "result=pca.fit_transform(X_train_enc)\n",
        "df_train_text=pd.DataFrame(data=result, columns=['component1', 'component2','component3'])"
      ],
      "execution_count": null,
      "outputs": []
    },
    {
      "cell_type": "code",
      "metadata": {
        "id": "_i8DjNerYG6e"
      },
      "source": [
        "pca = PCA(3)\n",
        "result=pca.fit_transform(X_test_enc)\n",
        "df_test_text=pd.DataFrame(data=result, columns=['component1', 'component2','component3'])"
      ],
      "execution_count": null,
      "outputs": []
    },
    {
      "cell_type": "code",
      "metadata": {
        "id": "6PjSMwzX1iv6",
        "colab": {
          "base_uri": "https://localhost:8080/"
        },
        "outputId": "b16f1a43-53e5-4457-8924-85d455281c8f"
      },
      "source": [
        "df_train.columns"
      ],
      "execution_count": null,
      "outputs": [
        {
          "output_type": "execute_result",
          "data": {
            "text/plain": [
              "Index(['SUBJECT_ID', 'HADM_ID', 'ADMITTIME', 'DISCHTIME', 'DAYS_NEXT_ADMIT',\n",
              "       'NEXT_ADMITTIME', 'ADMISSION_TYPE', 'DEATHTIME', 'DISCHARGE_LOCATION',\n",
              "       'INSURANCE', 'MARITAL_STATUS', 'ETHNICITY', 'DIAGNOSIS', 'TEXT',\n",
              "       'GENDER', 'DOB', 'blood', 'circulatory', 'congenital', 'digestive',\n",
              "       'endocrine', 'genitourinary', 'infectious', 'injury', 'mental', 'misc',\n",
              "       'muscular', 'neoplasms', 'nervous', 'pregnancy', 'prenatal',\n",
              "       'respiratory', 'skin', 'OUTPUT_LABEL'],\n",
              "      dtype='object')"
            ]
          },
          "metadata": {
            "tags": []
          },
          "execution_count": 14
        }
      ]
    },
    {
      "cell_type": "code",
      "metadata": {
        "id": "0wMQor_T1_So",
        "colab": {
          "base_uri": "https://localhost:8080/"
        },
        "outputId": "f404f15d-60a5-4fd9-a343-5fd79a1a8133"
      },
      "source": [
        "df_train.dtypes"
      ],
      "execution_count": null,
      "outputs": [
        {
          "output_type": "execute_result",
          "data": {
            "text/plain": [
              "SUBJECT_ID              int64\n",
              "HADM_ID                 int64\n",
              "ADMITTIME              object\n",
              "DISCHTIME              object\n",
              "DAYS_NEXT_ADMIT       float64\n",
              "NEXT_ADMITTIME         object\n",
              "ADMISSION_TYPE         object\n",
              "DEATHTIME              object\n",
              "DISCHARGE_LOCATION     object\n",
              "INSURANCE              object\n",
              "MARITAL_STATUS         object\n",
              "ETHNICITY              object\n",
              "DIAGNOSIS              object\n",
              "TEXT                   object\n",
              "GENDER                 object\n",
              "DOB                    object\n",
              "blood                   int64\n",
              "circulatory             int64\n",
              "congenital              int64\n",
              "digestive               int64\n",
              "endocrine               int64\n",
              "genitourinary           int64\n",
              "infectious              int64\n",
              "injury                  int64\n",
              "mental                  int64\n",
              "misc                    int64\n",
              "muscular                int64\n",
              "neoplasms               int64\n",
              "nervous                 int64\n",
              "pregnancy               int64\n",
              "prenatal                int64\n",
              "respiratory             int64\n",
              "skin                    int64\n",
              "OUTPUT_LABEL            int64\n",
              "dtype: object"
            ]
          },
          "metadata": {
            "tags": []
          },
          "execution_count": 15
        }
      ]
    },
    {
      "cell_type": "markdown",
      "metadata": {
        "id": "4_tQEElB2b3T"
      },
      "source": [
        "## Next, we will transform non-numerical data into categorical data"
      ]
    },
    {
      "cell_type": "code",
      "metadata": {
        "id": "j3578Czh2Bg_"
      },
      "source": [
        "#train data to categorical\n",
        "df_train[\"ADMISSION_TYPE\"] = df_train[\"ADMISSION_TYPE\"].astype('category')\n",
        "df_train[\"Admission_cat\"] = df_train[\"ADMISSION_TYPE\"].cat.codes\n",
        "df_train[\"INSURANCE\"] = df_train[\"INSURANCE\"].astype('category')\n",
        "df_train[\"Insurance_cat\"] = df_train[\"INSURANCE\"].cat.codes\n",
        "df_train[\"MARITAL_STATUS\"] = df_train[\"MARITAL_STATUS\"].astype('category')\n",
        "df_train[\"maritial_status_cat\"] = df_train[\"MARITAL_STATUS\"].cat.codes\n",
        "df_train[\"ETHNICITY\"] = df_train[\"ETHNICITY\"].astype('category')\n",
        "df_train[\"ethnicity_cat\"] = df_train[\"ETHNICITY\"].cat.codes\n",
        "df_train[\"GENDER\"] = df_train[\"GENDER\"].astype('category')\n",
        "df_train[\"gender_cat\"] = df_train[\"GENDER\"].cat.codes\n",
        "df_train[\"DOB\"]=df_train[\"DOB\"].astype('category')\n",
        "df_train[\"DOB_cat\"] = df_train[\"DOB\"].cat.codes\n",
        "df_train[\"DIAGNOSIS\"] = df_train[\"DIAGNOSIS\"].astype('category')\n",
        "df_train[\"DIAGNOSIS_\"] = df_train[\"DIAGNOSIS\"].cat.codes\n",
        "df_train[\"DISCHARGE_LOCATION\"] = df_train[\"DISCHARGE_LOCATION\"].astype('category')\n",
        "df_train[\"DISCHARGE_LOCATION_\"] = df_train[\"DISCHARGE_LOCATION\"].cat.codes\n",
        "\n",
        "#test data to categorical\n",
        "df_test[\"ADMISSION_TYPE\"] = df_test[\"ADMISSION_TYPE\"].astype('category')\n",
        "df_test[\"Admission_cat\"] = df_test[\"ADMISSION_TYPE\"].cat.codes\n",
        "df_test[\"INSURANCE\"] = df_test[\"INSURANCE\"].astype('category')\n",
        "df_test[\"Insurance_cat\"] = df_test[\"INSURANCE\"].cat.codes\n",
        "df_test[\"MARITAL_STATUS\"] = df_test[\"MARITAL_STATUS\"].astype('category')\n",
        "df_test[\"maritial_status_cat\"] = df_test[\"MARITAL_STATUS\"].cat.codes\n",
        "df_test[\"ETHNICITY\"] = df_test[\"ETHNICITY\"].astype('category')\n",
        "df_test[\"ethnicity_cat\"] = df_test[\"ETHNICITY\"].cat.codes\n",
        "df_test[\"GENDER\"] = df_test[\"GENDER\"].astype('category')\n",
        "df_test[\"gender_cat\"] = df_test[\"GENDER\"].cat.codes\n",
        "df_test[\"DOB\"]=df_test[\"DOB\"].astype('category')\n",
        "df_test[\"DOB_cat\"] = df_test[\"DOB\"].cat.codes\n",
        "df_test[\"DIAGNOSIS\"] = df_test[\"DIAGNOSIS\"].astype('category')\n",
        "df_test[\"DIAGNOSIS_\"] = df_test[\"DIAGNOSIS\"].cat.codes\n",
        "df_test[\"DISCHARGE_LOCATION\"] = df_test[\"DISCHARGE_LOCATION\"].astype('category')\n",
        "df_test[\"DISCHARGE_LOCATION_\"] = df_test[\"DISCHARGE_LOCATION\"].cat.codes"
      ],
      "execution_count": null,
      "outputs": []
    },
    {
      "cell_type": "markdown",
      "metadata": {
        "id": "_sFu6u-d2rS9"
      },
      "source": [
        "## Here we chose the columns that will be our features in the training and testing process"
      ]
    },
    {
      "cell_type": "code",
      "metadata": {
        "id": "M5JrL3XY2EvO"
      },
      "source": [
        "X_train=df_train[['DOB_cat', 'gender_cat',  'ethnicity_cat', 'Insurance_cat',\n",
        " 'blood', 'circulatory', 'congenital', 'digestive', 'endocrine', 'genitourinary', 'infectious', 'injury',  'misc', 'muscular','DISCHARGE_LOCATION_',\n",
        "  'neoplasms', 'nervous', 'pregnancy', 'prenatal', 'respiratory', 'skin']]\n",
        "\n",
        "X_test=df_test[['DOB_cat', 'gender_cat',  'ethnicity_cat', 'Insurance_cat', \n",
        " 'blood', 'circulatory', 'congenital', 'digestive', 'endocrine', 'genitourinary', 'infectious', 'injury',  'misc', 'muscular','DISCHARGE_LOCATION_',\n",
        "  'neoplasms', 'nervous', 'pregnancy', 'prenatal', 'respiratory', 'skin']]\n",
        "\n",
        "\n"
      ],
      "execution_count": null,
      "outputs": []
    },
    {
      "cell_type": "code",
      "metadata": {
        "colab": {
          "base_uri": "https://localhost:8080/",
          "height": 426
        },
        "id": "Pu0BTnIGfuqX",
        "outputId": "c6d5d53f-c248-4e1a-97d4-99d4328045d1"
      },
      "source": [
        "X_train"
      ],
      "execution_count": null,
      "outputs": [
        {
          "output_type": "execute_result",
          "data": {
            "text/html": [
              "<div>\n",
              "<style scoped>\n",
              "    .dataframe tbody tr th:only-of-type {\n",
              "        vertical-align: middle;\n",
              "    }\n",
              "\n",
              "    .dataframe tbody tr th {\n",
              "        vertical-align: top;\n",
              "    }\n",
              "\n",
              "    .dataframe thead th {\n",
              "        text-align: right;\n",
              "    }\n",
              "</style>\n",
              "<table border=\"1\" class=\"dataframe\">\n",
              "  <thead>\n",
              "    <tr style=\"text-align: right;\">\n",
              "      <th></th>\n",
              "      <th>DOB_cat</th>\n",
              "      <th>gender_cat</th>\n",
              "      <th>ethnicity_cat</th>\n",
              "      <th>Insurance_cat</th>\n",
              "      <th>blood</th>\n",
              "      <th>circulatory</th>\n",
              "      <th>congenital</th>\n",
              "      <th>digestive</th>\n",
              "      <th>endocrine</th>\n",
              "      <th>genitourinary</th>\n",
              "      <th>infectious</th>\n",
              "      <th>injury</th>\n",
              "      <th>misc</th>\n",
              "      <th>muscular</th>\n",
              "      <th>DISCHARGE_LOCATION_</th>\n",
              "      <th>neoplasms</th>\n",
              "      <th>nervous</th>\n",
              "      <th>pregnancy</th>\n",
              "      <th>prenatal</th>\n",
              "      <th>respiratory</th>\n",
              "      <th>skin</th>\n",
              "    </tr>\n",
              "  </thead>\n",
              "  <tbody>\n",
              "    <tr>\n",
              "      <th>1</th>\n",
              "      <td>117</td>\n",
              "      <td>1</td>\n",
              "      <td>4</td>\n",
              "      <td>2</td>\n",
              "      <td>0</td>\n",
              "      <td>2</td>\n",
              "      <td>0</td>\n",
              "      <td>2</td>\n",
              "      <td>1</td>\n",
              "      <td>0</td>\n",
              "      <td>0</td>\n",
              "      <td>1</td>\n",
              "      <td>0</td>\n",
              "      <td>0</td>\n",
              "      <td>3</td>\n",
              "      <td>0</td>\n",
              "      <td>0</td>\n",
              "      <td>0</td>\n",
              "      <td>0</td>\n",
              "      <td>1</td>\n",
              "      <td>0</td>\n",
              "    </tr>\n",
              "    <tr>\n",
              "      <th>2</th>\n",
              "      <td>795</td>\n",
              "      <td>1</td>\n",
              "      <td>4</td>\n",
              "      <td>1</td>\n",
              "      <td>1</td>\n",
              "      <td>2</td>\n",
              "      <td>0</td>\n",
              "      <td>0</td>\n",
              "      <td>6</td>\n",
              "      <td>1</td>\n",
              "      <td>1</td>\n",
              "      <td>4</td>\n",
              "      <td>2</td>\n",
              "      <td>1</td>\n",
              "      <td>11</td>\n",
              "      <td>0</td>\n",
              "      <td>3</td>\n",
              "      <td>0</td>\n",
              "      <td>0</td>\n",
              "      <td>4</td>\n",
              "      <td>0</td>\n",
              "    </tr>\n",
              "    <tr>\n",
              "      <th>3</th>\n",
              "      <td>1523</td>\n",
              "      <td>0</td>\n",
              "      <td>1</td>\n",
              "      <td>2</td>\n",
              "      <td>0</td>\n",
              "      <td>1</td>\n",
              "      <td>0</td>\n",
              "      <td>1</td>\n",
              "      <td>3</td>\n",
              "      <td>1</td>\n",
              "      <td>0</td>\n",
              "      <td>1</td>\n",
              "      <td>0</td>\n",
              "      <td>0</td>\n",
              "      <td>2</td>\n",
              "      <td>0</td>\n",
              "      <td>0</td>\n",
              "      <td>0</td>\n",
              "      <td>0</td>\n",
              "      <td>1</td>\n",
              "      <td>1</td>\n",
              "    </tr>\n",
              "    <tr>\n",
              "      <th>5</th>\n",
              "      <td>549</td>\n",
              "      <td>1</td>\n",
              "      <td>4</td>\n",
              "      <td>2</td>\n",
              "      <td>0</td>\n",
              "      <td>3</td>\n",
              "      <td>0</td>\n",
              "      <td>1</td>\n",
              "      <td>2</td>\n",
              "      <td>0</td>\n",
              "      <td>0</td>\n",
              "      <td>1</td>\n",
              "      <td>0</td>\n",
              "      <td>0</td>\n",
              "      <td>3</td>\n",
              "      <td>0</td>\n",
              "      <td>0</td>\n",
              "      <td>0</td>\n",
              "      <td>0</td>\n",
              "      <td>0</td>\n",
              "      <td>0</td>\n",
              "    </tr>\n",
              "    <tr>\n",
              "      <th>6</th>\n",
              "      <td>744</td>\n",
              "      <td>1</td>\n",
              "      <td>4</td>\n",
              "      <td>2</td>\n",
              "      <td>0</td>\n",
              "      <td>6</td>\n",
              "      <td>0</td>\n",
              "      <td>1</td>\n",
              "      <td>1</td>\n",
              "      <td>0</td>\n",
              "      <td>0</td>\n",
              "      <td>4</td>\n",
              "      <td>0</td>\n",
              "      <td>0</td>\n",
              "      <td>11</td>\n",
              "      <td>0</td>\n",
              "      <td>0</td>\n",
              "      <td>0</td>\n",
              "      <td>0</td>\n",
              "      <td>4</td>\n",
              "      <td>0</td>\n",
              "    </tr>\n",
              "    <tr>\n",
              "      <th>...</th>\n",
              "      <td>...</td>\n",
              "      <td>...</td>\n",
              "      <td>...</td>\n",
              "      <td>...</td>\n",
              "      <td>...</td>\n",
              "      <td>...</td>\n",
              "      <td>...</td>\n",
              "      <td>...</td>\n",
              "      <td>...</td>\n",
              "      <td>...</td>\n",
              "      <td>...</td>\n",
              "      <td>...</td>\n",
              "      <td>...</td>\n",
              "      <td>...</td>\n",
              "      <td>...</td>\n",
              "      <td>...</td>\n",
              "      <td>...</td>\n",
              "      <td>...</td>\n",
              "      <td>...</td>\n",
              "      <td>...</td>\n",
              "      <td>...</td>\n",
              "    </tr>\n",
              "    <tr>\n",
              "      <th>1995</th>\n",
              "      <td>1336</td>\n",
              "      <td>0</td>\n",
              "      <td>2</td>\n",
              "      <td>3</td>\n",
              "      <td>0</td>\n",
              "      <td>3</td>\n",
              "      <td>0</td>\n",
              "      <td>0</td>\n",
              "      <td>1</td>\n",
              "      <td>0</td>\n",
              "      <td>0</td>\n",
              "      <td>1</td>\n",
              "      <td>0</td>\n",
              "      <td>0</td>\n",
              "      <td>2</td>\n",
              "      <td>0</td>\n",
              "      <td>0</td>\n",
              "      <td>0</td>\n",
              "      <td>0</td>\n",
              "      <td>2</td>\n",
              "      <td>0</td>\n",
              "    </tr>\n",
              "    <tr>\n",
              "      <th>1996</th>\n",
              "      <td>54</td>\n",
              "      <td>0</td>\n",
              "      <td>4</td>\n",
              "      <td>2</td>\n",
              "      <td>0</td>\n",
              "      <td>6</td>\n",
              "      <td>0</td>\n",
              "      <td>0</td>\n",
              "      <td>1</td>\n",
              "      <td>1</td>\n",
              "      <td>1</td>\n",
              "      <td>3</td>\n",
              "      <td>0</td>\n",
              "      <td>1</td>\n",
              "      <td>13</td>\n",
              "      <td>0</td>\n",
              "      <td>0</td>\n",
              "      <td>0</td>\n",
              "      <td>0</td>\n",
              "      <td>1</td>\n",
              "      <td>0</td>\n",
              "    </tr>\n",
              "    <tr>\n",
              "      <th>1997</th>\n",
              "      <td>905</td>\n",
              "      <td>0</td>\n",
              "      <td>4</td>\n",
              "      <td>2</td>\n",
              "      <td>0</td>\n",
              "      <td>5</td>\n",
              "      <td>0</td>\n",
              "      <td>0</td>\n",
              "      <td>2</td>\n",
              "      <td>1</td>\n",
              "      <td>0</td>\n",
              "      <td>4</td>\n",
              "      <td>0</td>\n",
              "      <td>2</td>\n",
              "      <td>13</td>\n",
              "      <td>0</td>\n",
              "      <td>0</td>\n",
              "      <td>0</td>\n",
              "      <td>0</td>\n",
              "      <td>0</td>\n",
              "      <td>0</td>\n",
              "    </tr>\n",
              "    <tr>\n",
              "      <th>1998</th>\n",
              "      <td>260</td>\n",
              "      <td>0</td>\n",
              "      <td>4</td>\n",
              "      <td>2</td>\n",
              "      <td>0</td>\n",
              "      <td>4</td>\n",
              "      <td>0</td>\n",
              "      <td>0</td>\n",
              "      <td>2</td>\n",
              "      <td>0</td>\n",
              "      <td>0</td>\n",
              "      <td>0</td>\n",
              "      <td>0</td>\n",
              "      <td>0</td>\n",
              "      <td>13</td>\n",
              "      <td>0</td>\n",
              "      <td>1</td>\n",
              "      <td>0</td>\n",
              "      <td>0</td>\n",
              "      <td>2</td>\n",
              "      <td>0</td>\n",
              "    </tr>\n",
              "    <tr>\n",
              "      <th>1999</th>\n",
              "      <td>267</td>\n",
              "      <td>1</td>\n",
              "      <td>0</td>\n",
              "      <td>2</td>\n",
              "      <td>1</td>\n",
              "      <td>2</td>\n",
              "      <td>0</td>\n",
              "      <td>3</td>\n",
              "      <td>1</td>\n",
              "      <td>0</td>\n",
              "      <td>0</td>\n",
              "      <td>0</td>\n",
              "      <td>0</td>\n",
              "      <td>0</td>\n",
              "      <td>2</td>\n",
              "      <td>1</td>\n",
              "      <td>0</td>\n",
              "      <td>0</td>\n",
              "      <td>0</td>\n",
              "      <td>1</td>\n",
              "      <td>0</td>\n",
              "    </tr>\n",
              "  </tbody>\n",
              "</table>\n",
              "<p>1784 rows × 21 columns</p>\n",
              "</div>"
            ],
            "text/plain": [
              "      DOB_cat  gender_cat  ethnicity_cat  ...  prenatal  respiratory  skin\n",
              "1         117           1              4  ...         0            1     0\n",
              "2         795           1              4  ...         0            4     0\n",
              "3        1523           0              1  ...         0            1     1\n",
              "5         549           1              4  ...         0            0     0\n",
              "6         744           1              4  ...         0            4     0\n",
              "...       ...         ...            ...  ...       ...          ...   ...\n",
              "1995     1336           0              2  ...         0            2     0\n",
              "1996       54           0              4  ...         0            1     0\n",
              "1997      905           0              4  ...         0            0     0\n",
              "1998      260           0              4  ...         0            2     0\n",
              "1999      267           1              0  ...         0            1     0\n",
              "\n",
              "[1784 rows x 21 columns]"
            ]
          },
          "metadata": {
            "tags": []
          },
          "execution_count": 22
        }
      ]
    },
    {
      "cell_type": "markdown",
      "metadata": {
        "id": "MQE0aPEz27DS"
      },
      "source": [
        "## after choosing our features we have to add the resulting features from the \"TEXT\" variable"
      ]
    },
    {
      "cell_type": "code",
      "metadata": {
        "id": "Wc-U7hNme5WW"
      },
      "source": [
        "X_train = pd.DataFrame(np.hstack([X_train,df_train_text]))\n",
        "X_test = pd.DataFrame(np.hstack([X_test,df_test_text]))"
      ],
      "execution_count": null,
      "outputs": []
    },
    {
      "cell_type": "markdown",
      "metadata": {
        "id": "amDrRgsF3Iyg"
      },
      "source": [
        "## Here we rescale our data using standardScaler"
      ]
    },
    {
      "cell_type": "code",
      "metadata": {
        "id": "gjC-9qcP2eaW"
      },
      "source": [
        "#scale \n",
        "X_train = StandardScaler().fit_transform(X_train)\n",
        "X_test = StandardScaler().fit_transform(X_test)"
      ],
      "execution_count": null,
      "outputs": []
    },
    {
      "cell_type": "markdown",
      "metadata": {
        "id": "tggAhJ0I3RQy"
      },
      "source": [
        "## now we choose the target variable which will be \"output_label\". This variable represents re-admission if it is 1, and no re-admission if it is 0."
      ]
    },
    {
      "cell_type": "code",
      "metadata": {
        "id": "y_YwocMk4PJ_"
      },
      "source": [
        "y_train=df_train['OUTPUT_LABEL']\n",
        "y_test=df_test['OUTPUT_LABEL']"
      ],
      "execution_count": null,
      "outputs": []
    },
    {
      "cell_type": "code",
      "metadata": {
        "colab": {
          "base_uri": "https://localhost:8080/"
        },
        "id": "gDlLphKcd30Y",
        "outputId": "f12bdcfb-c200-49fe-fc79-fb0d988f19b5"
      },
      "source": [
        "X_train.shape"
      ],
      "execution_count": null,
      "outputs": [
        {
          "output_type": "execute_result",
          "data": {
            "text/plain": [
              "(1784, 24)"
            ]
          },
          "metadata": {
            "tags": []
          },
          "execution_count": 136
        }
      ]
    },
    {
      "cell_type": "code",
      "metadata": {
        "id": "GjZxMDTT_lT0",
        "colab": {
          "base_uri": "https://localhost:8080/"
        },
        "outputId": "ba96e4f7-0a92-4415-8a28-9e9baa02c267"
      },
      "source": [
        "print(df_train.corr()[\"OUTPUT_LABEL\"].sort_values(ascending=False))"
      ],
      "execution_count": null,
      "outputs": [
        {
          "output_type": "stream",
          "text": [
            "OUTPUT_LABEL           1.000000\n",
            "SUBJECT_ID             0.607322\n",
            "misc                   0.223879\n",
            "endocrine              0.210750\n",
            "genitourinary          0.209095\n",
            "respiratory            0.194160\n",
            "blood                  0.181097\n",
            "DISCHARGE_LOCATION_    0.176654\n",
            "injury                 0.174631\n",
            "nervous                0.167241\n",
            "digestive              0.163123\n",
            "infectious             0.152709\n",
            "circulatory            0.138752\n",
            "skin                   0.129343\n",
            "muscular               0.098334\n",
            "Admission_cat          0.082429\n",
            "mental                 0.075121\n",
            "DIAGNOSIS_             0.050664\n",
            "neoplasms              0.029435\n",
            "maritial_status_cat    0.000843\n",
            "gender_cat            -0.001889\n",
            "prenatal              -0.011809\n",
            "HADM_ID               -0.013163\n",
            "pregnancy             -0.023326\n",
            "congenital            -0.039283\n",
            "ethnicity_cat         -0.047770\n",
            "Insurance_cat         -0.084871\n",
            "DOB_cat               -0.086136\n",
            "DAYS_NEXT_ADMIT       -0.599091\n",
            "Name: OUTPUT_LABEL, dtype: float64\n"
          ],
          "name": "stdout"
        }
      ]
    },
    {
      "cell_type": "markdown",
      "metadata": {
        "id": "lbmVU0V-32KR"
      },
      "source": [
        "# Implementing Our Models"
      ]
    },
    {
      "cell_type": "markdown",
      "metadata": {
        "id": "Mg6fPwVm6Pr_"
      },
      "source": [
        "## DecisionTreeClassifier"
      ]
    },
    {
      "cell_type": "code",
      "metadata": {
        "id": "N0gH0Lqp379v"
      },
      "source": [
        "# Declare variables\n",
        "\n",
        "MAX_DEPTH = 20\n",
        "cv_history = []\n",
        "test_history = []\n",
        "train_history = []\n",
        "\n",
        "for depth in range(1, MAX_DEPTH):\n",
        "    clf = DecisionTreeClassifier(random_state=0, max_depth=depth)\n",
        "    cv_scores = cross_val_score(clf, X_train, y_train, cv=10)\n",
        "    cv_history.append(cv_scores.mean())\n",
        "    clf.fit(X_train, y_train)\n",
        "    train_history.append(clf.score(X_train, y_train))\n",
        "    test_history.append(clf.score(X_test, y_test))"
      ],
      "execution_count": null,
      "outputs": []
    },
    {
      "cell_type": "code",
      "metadata": {
        "id": "pFz7jKDV4flv",
        "colab": {
          "base_uri": "https://localhost:8080/",
          "height": 294
        },
        "outputId": "a028beaa-9e6c-4576-94c3-c2d7c3e1114e"
      },
      "source": [
        "depths = list(range(1, MAX_DEPTH))\n",
        "plt.figure(figsize=(12,4))\n",
        "plt.plot(depths, cv_history, label='cross validation accuracy', color='blue')\n",
        "plt.plot(depths, test_history, label='test accuracy', color='green')\n",
        "\n",
        "# Uncomment me if you want to see training errors\n",
        "#plt.plot(depths, train_history, label='training accuracy', color='red')\n",
        "plt.xticks(depths)\n",
        "plt.xlabel('Max depth')\n",
        "plt.ylabel('Accuracy')\n",
        "plt.title('Choose best depth')\n",
        "plt.legend()\n",
        "plt.show()"
      ],
      "execution_count": null,
      "outputs": [
        {
          "output_type": "display_data",
          "data": {
            "image/png": "[encoded data removed]",
            "text/plain": [
              "<Figure size 864x288 with 1 Axes>"
            ]
          },
          "metadata": {
            "tags": [],
            "needs_background": "light"
          }
        }
      ]
    },
    {
      "cell_type": "code",
      "metadata": {
        "id": "QugKFknU43oA",
        "colab": {
          "base_uri": "https://localhost:8080/"
        },
        "outputId": "fe23f361-78a8-46ad-dfe8-42f452e0a60e"
      },
      "source": [
        "d=depths[np.argmax(test_history)]\n",
        "clf = DecisionTreeClassifier(random_state=0, max_depth=d)\n",
        "clf.fit(X_train, y_train)"
      ],
      "execution_count": null,
      "outputs": [
        {
          "output_type": "execute_result",
          "data": {
            "text/plain": [
              "DecisionTreeClassifier(ccp_alpha=0.0, class_weight=None, criterion='gini',\n",
              "                       max_depth=3, max_features=None, max_leaf_nodes=None,\n",
              "                       min_impurity_decrease=0.0, min_impurity_split=None,\n",
              "                       min_samples_leaf=1, min_samples_split=2,\n",
              "                       min_weight_fraction_leaf=0.0, presort='deprecated',\n",
              "                       random_state=0, splitter='best')"
            ]
          },
          "metadata": {
            "tags": []
          },
          "execution_count": 140
        }
      ]
    },
    {
      "cell_type": "code",
      "metadata": {
        "id": "x5Y3vTrP4_VT",
        "colab": {
          "base_uri": "https://localhost:8080/",
          "height": 605
        },
        "outputId": "5fd5df5a-a11b-4d27-8535-542b866429e9"
      },
      "source": [
        "sorted_features = sorted(zip(X_train, clf.feature_importances_), key= lambda couple: couple[1])\n",
        "features, scores = zip(*sorted_features)\n",
        "feature_names=['DOB_cat', 'gender_cat', 'maritial_status_cat', 'ethnicity_cat', 'Insurance_cat', 'Admission_cat',\n",
        "               'blood', 'circulatory', 'congenital', 'digestive', 'endocrine', 'genitourinary', 'infectious', 'injury',\n",
        "               'mental', 'misc', 'muscular', 'neoplasms', 'nervous', 'pregnancy', 'prenatal', 'respiratory', 'skin']\n",
        "\n",
        "plt.figure(figsize=(5,10))\n",
        "plt.barh(range(len(features)), scores, align='center')\n",
        "plt.yticks(range(len(features)),feature_names)\n",
        "plt.xlabel('feature importance')\n",
        "plt.ylabel('feature')\n",
        "plt.show()"
      ],
      "execution_count": null,
      "outputs": [
        {
          "output_type": "display_data",
          "data": {
            "image/png": "[encoded data removed]",
            "text/plain": [
              "<Figure size 360x720 with 1 Axes>"
            ]
          },
          "metadata": {
            "tags": [],
            "needs_background": "light"
          }
        }
      ]
    },
    {
      "cell_type": "markdown",
      "metadata": {
        "id": "vVBwHyQn6gvU"
      },
      "source": [
        "## RandomForestClassifier"
      ]
    },
    {
      "cell_type": "code",
      "metadata": {
        "id": "1c9UhezN6-ax"
      },
      "source": [
        "training_history = []\n",
        "test_history = [] \n",
        "NB_TREES = 200\n",
        "for nb_trees in range(1, NB_TREES, 10):\n",
        "    clf_rf = RandomForestClassifier(n_estimators=nb_trees) # We don't specifiy trees' max depth i.e all trees are\n",
        "    #build until all nodes are pure\n",
        "    clf_rf.fit(X_train,y_train)\n",
        "    training_history.append(clf_rf.score(X_train,y_train))\n",
        "    test_history.append(clf_rf.score(X_test, y_test))"
      ],
      "execution_count": null,
      "outputs": []
    },
    {
      "cell_type": "code",
      "metadata": {
        "id": "Mkuvvkg47EXI",
        "colab": {
          "base_uri": "https://localhost:8080/",
          "height": 287
        },
        "outputId": "511b31a7-aab9-4845-e53b-498017a34050"
      },
      "source": [
        "nb_trees = list(range(1, NB_TREES, 10))\n",
        "plt.figure(figsize=(12,4))\n",
        "plt.plot(nb_trees, training_history, label='training accuracy', color='red')\n",
        "plt.plot(nb_trees, test_history, label='test accuracy', color='green')\n",
        "plt.hlines(y=clf.score(X_test, y_test), xmin=0, xmax=200, color='blue', label='Decision tree test accuracy with depth = 4')\n",
        "plt.xticks(nb_trees, rotation=-45)\n",
        "plt.xlabel('Number of trees in the forest')\n",
        "plt.ylabel('Accuracy')\n",
        "plt.legend()\n",
        "plt.show()"
      ],
      "execution_count": null,
      "outputs": [
        {
          "output_type": "display_data",
          "data": {
            "image/png": "[encoded data removed]",
            "text/plain": [
              "<Figure size 864x288 with 1 Axes>"
            ]
          },
          "metadata": {
            "tags": [],
            "needs_background": "light"
          }
        }
      ]
    },
    {
      "cell_type": "code",
      "metadata": {
        "id": "Ik0EYRt3SaOZ",
        "colab": {
          "base_uri": "https://localhost:8080/"
        },
        "outputId": "31a7bb2b-08c8-4c0d-d549-ff6034cfab7c"
      },
      "source": [
        "t=nb_trees[np.argmax(test_history)]\n",
        "clf_rf = RandomForestClassifier(n_estimators=t)\n",
        "clf_rf.fit(X_train, y_train)"
      ],
      "execution_count": null,
      "outputs": [
        {
          "output_type": "execute_result",
          "data": {
            "text/plain": [
              "RandomForestClassifier(bootstrap=True, ccp_alpha=0.0, class_weight=None,\n",
              "                       criterion='gini', max_depth=None, max_features='auto',\n",
              "                       max_leaf_nodes=None, max_samples=None,\n",
              "                       min_impurity_decrease=0.0, min_impurity_split=None,\n",
              "                       min_samples_leaf=1, min_samples_split=2,\n",
              "                       min_weight_fraction_leaf=0.0, n_estimators=191,\n",
              "                       n_jobs=None, oob_score=False, random_state=None,\n",
              "                       verbose=0, warm_start=False)"
            ]
          },
          "metadata": {
            "tags": []
          },
          "execution_count": 144
        }
      ]
    },
    {
      "cell_type": "markdown",
      "metadata": {
        "id": "LkGyMxUa6vw5"
      },
      "source": [
        "## Logistic Regression"
      ]
    },
    {
      "cell_type": "code",
      "metadata": {
        "id": "yF4URJKjRZH_",
        "colab": {
          "base_uri": "https://localhost:8080/"
        },
        "outputId": "507f192e-6a10-407b-b2a4-7c310c894188"
      },
      "source": [
        "model = LogisticRegression(solver='lbfgs')\n",
        "model.fit(X_train, y_train)"
      ],
      "execution_count": null,
      "outputs": [
        {
          "output_type": "execute_result",
          "data": {
            "text/plain": [
              "LogisticRegression(C=1.0, class_weight=None, dual=False, fit_intercept=True,\n",
              "                   intercept_scaling=1, l1_ratio=None, max_iter=100,\n",
              "                   multi_class='auto', n_jobs=None, penalty='l2',\n",
              "                   random_state=None, solver='lbfgs', tol=0.0001, verbose=0,\n",
              "                   warm_start=False)"
            ]
          },
          "metadata": {
            "tags": []
          },
          "execution_count": 145
        }
      ]
    },
    {
      "cell_type": "markdown",
      "metadata": {
        "id": "aWoS6DiS7ASW"
      },
      "source": [
        "## Naive Bayes Classifier"
      ]
    },
    {
      "cell_type": "code",
      "metadata": {
        "id": "dqtYzhANTD7e",
        "colab": {
          "base_uri": "https://localhost:8080/"
        },
        "outputId": "9de66d00-16bf-46e1-a46f-114c7f09b5bf"
      },
      "source": [
        "nbc = BernoulliNB()\n",
        "nbc.fit(X_train, y_train)"
      ],
      "execution_count": null,
      "outputs": [
        {
          "output_type": "execute_result",
          "data": {
            "text/plain": [
              "BernoulliNB(alpha=1.0, binarize=0.0, class_prior=None, fit_prior=True)"
            ]
          },
          "metadata": {
            "tags": []
          },
          "execution_count": 146
        }
      ]
    },
    {
      "cell_type": "markdown",
      "metadata": {
        "id": "ZVMUK9TbzMc3"
      },
      "source": [
        "## Knn Classifier"
      ]
    },
    {
      "cell_type": "code",
      "metadata": {
        "colab": {
          "base_uri": "https://localhost:8080/"
        },
        "id": "e6rEjxdSzT-p",
        "outputId": "6b9f445c-6823-46e6-da17-72f83849a07b"
      },
      "source": [
        "parameters = {'n_neighbors':[1,3,7],\n",
        "             'p':[1,2]}\n",
        "\n",
        "knn = KNeighborsClassifier()\n",
        "clf_knn = GridSearchCV(knn, parameters, cv=3,n_jobs=-1)\n",
        "clf_knn.fit(X_train,y_train)\n",
        "clf_knn.best_params_"
      ],
      "execution_count": null,
      "outputs": [
        {
          "output_type": "execute_result",
          "data": {
            "text/plain": [
              "{'n_neighbors': 7, 'p': 1}"
            ]
          },
          "metadata": {
            "tags": []
          },
          "execution_count": 147
        }
      ]
    },
    {
      "cell_type": "code",
      "metadata": {
        "colab": {
          "base_uri": "https://localhost:8080/"
        },
        "id": "zK28EPOjzgIO",
        "outputId": "d8911217-5e28-44a3-e270-33bb0624b9e5"
      },
      "source": [
        "knn = KNeighborsClassifier(n_neighbors = 7,p=1)\n",
        "knn.fit(X_train, y_train )"
      ],
      "execution_count": null,
      "outputs": [
        {
          "output_type": "execute_result",
          "data": {
            "text/plain": [
              "KNeighborsClassifier(algorithm='auto', leaf_size=30, metric='minkowski',\n",
              "                     metric_params=None, n_jobs=None, n_neighbors=7, p=1,\n",
              "                     weights='uniform')"
            ]
          },
          "metadata": {
            "tags": []
          },
          "execution_count": 148
        }
      ]
    },
    {
      "cell_type": "markdown",
      "metadata": {
        "id": "v-7FPOEmJ7CS"
      },
      "source": [
        "### Support Vector Machine Classifier"
      ]
    },
    {
      "cell_type": "code",
      "metadata": {
        "colab": {
          "base_uri": "https://localhost:8080/"
        },
        "id": "ieI4lSxCKgOY",
        "outputId": "47976603-07a4-4989-be41-de36d94db218"
      },
      "source": [
        "# defining parameter range \n",
        "param_grid = {'C': [0.1, 1, 10, 100, 1000],  \n",
        "              'gamma': [1, 0.1, 0.01, 0.001, 0.0001], \n",
        "              'kernel': ['linear','rbf', 'sigmoid']}  \n",
        "  \n",
        "grid = GridSearchCV(SVC(), param_grid, refit = True, verbose = 3) \n",
        "  \n",
        "# fitting the model for grid search \n",
        "grid.fit(X_train, y_train) "
      ],
      "execution_count": null,
      "outputs": [
        {
          "output_type": "stream",
          "text": [
            "Fitting 5 folds for each of 75 candidates, totalling 375 fits\n",
            "[CV] C=0.1, gamma=1, kernel=linear ...................................\n",
            "[CV] ....... C=0.1, gamma=1, kernel=linear, score=0.672, total=   0.1s\n",
            "[CV] C=0.1, gamma=1, kernel=linear ...................................\n",
            "[CV] ....... C=0.1, gamma=1, kernel=linear, score=0.672, total=   0.1s\n",
            "[CV] C=0.1, gamma=1, kernel=linear ...................................\n"
          ],
          "name": "stdout"
        },
        {
          "output_type": "stream",
          "text": [
            "[Parallel(n_jobs=1)]: Using backend SequentialBackend with 1 concurrent workers.\n",
            "[Parallel(n_jobs=1)]: Done   1 out of   1 | elapsed:    0.1s remaining:    0.0s\n",
            "[Parallel(n_jobs=1)]: Done   2 out of   2 | elapsed:    0.2s remaining:    0.0s\n"
          ],
          "name": "stderr"
        },
        {
          "output_type": "stream",
          "text": [
            "[CV] ....... C=0.1, gamma=1, kernel=linear, score=0.686, total=   0.1s\n",
            "[CV] C=0.1, gamma=1, kernel=linear ...................................\n",
            "[CV] ....... C=0.1, gamma=1, kernel=linear, score=0.678, total=   0.1s\n",
            "[CV] C=0.1, gamma=1, kernel=linear ...................................\n",
            "[CV] ....... C=0.1, gamma=1, kernel=linear, score=0.708, total=   0.1s\n",
            "[CV] C=0.1, gamma=1, kernel=rbf ......................................\n",
            "[CV] .......... C=0.1, gamma=1, kernel=rbf, score=0.552, total=   0.2s\n",
            "[CV] C=0.1, gamma=1, kernel=rbf ......................................\n",
            "[CV] .......... C=0.1, gamma=1, kernel=rbf, score=0.552, total=   0.2s\n",
            "[CV] C=0.1, gamma=1, kernel=rbf ......................................\n",
            "[CV] .......... C=0.1, gamma=1, kernel=rbf, score=0.552, total=   0.2s\n",
            "[CV] C=0.1, gamma=1, kernel=rbf ......................................\n",
            "[CV] .......... C=0.1, gamma=1, kernel=rbf, score=0.552, total=   0.2s\n",
            "[CV] C=0.1, gamma=1, kernel=rbf ......................................\n",
            "[CV] .......... C=0.1, gamma=1, kernel=rbf, score=0.553, total=   0.2s\n",
            "[CV] C=0.1, gamma=1, kernel=sigmoid ..................................\n",
            "[CV] ...... C=0.1, gamma=1, kernel=sigmoid, score=0.583, total=   0.2s\n",
            "[CV] C=0.1, gamma=1, kernel=sigmoid ..................................\n",
            "[CV] ...... C=0.1, gamma=1, kernel=sigmoid, score=0.580, total=   0.1s\n",
            "[CV] C=0.1, gamma=1, kernel=sigmoid ..................................\n",
            "[CV] ...... C=0.1, gamma=1, kernel=sigmoid, score=0.605, total=   0.1s\n",
            "[CV] C=0.1, gamma=1, kernel=sigmoid ..................................\n",
            "[CV] ...... C=0.1, gamma=1, kernel=sigmoid, score=0.602, total=   0.1s\n",
            "[CV] C=0.1, gamma=1, kernel=sigmoid ..................................\n",
            "[CV] ...... C=0.1, gamma=1, kernel=sigmoid, score=0.590, total=   0.1s\n",
            "[CV] C=0.1, gamma=0.1, kernel=linear .................................\n",
            "[CV] ..... C=0.1, gamma=0.1, kernel=linear, score=0.672, total=   0.1s\n",
            "[CV] C=0.1, gamma=0.1, kernel=linear .................................\n",
            "[CV] ..... C=0.1, gamma=0.1, kernel=linear, score=0.672, total=   0.1s\n",
            "[CV] C=0.1, gamma=0.1, kernel=linear .................................\n",
            "[CV] ..... C=0.1, gamma=0.1, kernel=linear, score=0.686, total=   0.1s\n",
            "[CV] C=0.1, gamma=0.1, kernel=linear .................................\n",
            "[CV] ..... C=0.1, gamma=0.1, kernel=linear, score=0.678, total=   0.1s\n",
            "[CV] C=0.1, gamma=0.1, kernel=linear .................................\n",
            "[CV] ..... C=0.1, gamma=0.1, kernel=linear, score=0.708, total=   0.1s\n",
            "[CV] C=0.1, gamma=0.1, kernel=rbf ....................................\n",
            "[CV] ........ C=0.1, gamma=0.1, kernel=rbf, score=0.689, total=   0.1s\n",
            "[CV] C=0.1, gamma=0.1, kernel=rbf ....................................\n",
            "[CV] ........ C=0.1, gamma=0.1, kernel=rbf, score=0.650, total=   0.1s\n",
            "[CV] C=0.1, gamma=0.1, kernel=rbf ....................................\n",
            "[CV] ........ C=0.1, gamma=0.1, kernel=rbf, score=0.644, total=   0.1s\n",
            "[CV] C=0.1, gamma=0.1, kernel=rbf ....................................\n",
            "[CV] ........ C=0.1, gamma=0.1, kernel=rbf, score=0.641, total=   0.1s\n",
            "[CV] C=0.1, gamma=0.1, kernel=rbf ....................................\n",
            "[CV] ........ C=0.1, gamma=0.1, kernel=rbf, score=0.643, total=   0.2s\n",
            "[CV] C=0.1, gamma=0.1, kernel=sigmoid ................................\n",
            "[CV] .... C=0.1, gamma=0.1, kernel=sigmoid, score=0.695, total=   0.1s\n",
            "[CV] C=0.1, gamma=0.1, kernel=sigmoid ................................\n",
            "[CV] .... C=0.1, gamma=0.1, kernel=sigmoid, score=0.675, total=   0.1s\n",
            "[CV] C=0.1, gamma=0.1, kernel=sigmoid ................................\n",
            "[CV] .... C=0.1, gamma=0.1, kernel=sigmoid, score=0.689, total=   0.1s\n",
            "[CV] C=0.1, gamma=0.1, kernel=sigmoid ................................\n",
            "[CV] .... C=0.1, gamma=0.1, kernel=sigmoid, score=0.661, total=   0.1s\n",
            "[CV] C=0.1, gamma=0.1, kernel=sigmoid ................................\n",
            "[CV] .... C=0.1, gamma=0.1, kernel=sigmoid, score=0.702, total=   0.1s\n",
            "[CV] C=0.1, gamma=0.01, kernel=linear ................................\n",
            "[CV] .... C=0.1, gamma=0.01, kernel=linear, score=0.672, total=   0.1s\n",
            "[CV] C=0.1, gamma=0.01, kernel=linear ................................\n",
            "[CV] .... C=0.1, gamma=0.01, kernel=linear, score=0.672, total=   0.1s\n",
            "[CV] C=0.1, gamma=0.01, kernel=linear ................................\n",
            "[CV] .... C=0.1, gamma=0.01, kernel=linear, score=0.686, total=   0.1s\n",
            "[CV] C=0.1, gamma=0.01, kernel=linear ................................\n",
            "[CV] .... C=0.1, gamma=0.01, kernel=linear, score=0.678, total=   0.1s\n",
            "[CV] C=0.1, gamma=0.01, kernel=linear ................................\n",
            "[CV] .... C=0.1, gamma=0.01, kernel=linear, score=0.708, total=   0.1s\n",
            "[CV] C=0.1, gamma=0.01, kernel=rbf ...................................\n",
            "[CV] ....... C=0.1, gamma=0.01, kernel=rbf, score=0.717, total=   0.1s\n",
            "[CV] C=0.1, gamma=0.01, kernel=rbf ...................................\n",
            "[CV] ....... C=0.1, gamma=0.01, kernel=rbf, score=0.675, total=   0.1s\n",
            "[CV] C=0.1, gamma=0.01, kernel=rbf ...................................\n",
            "[CV] ....... C=0.1, gamma=0.01, kernel=rbf, score=0.695, total=   0.1s\n",
            "[CV] C=0.1, gamma=0.01, kernel=rbf ...................................\n",
            "[CV] ....... C=0.1, gamma=0.01, kernel=rbf, score=0.669, total=   0.1s\n",
            "[CV] C=0.1, gamma=0.01, kernel=rbf ...................................\n",
            "[CV] ....... C=0.1, gamma=0.01, kernel=rbf, score=0.705, total=   0.1s\n",
            "[CV] C=0.1, gamma=0.01, kernel=sigmoid ...............................\n",
            "[CV] ... C=0.1, gamma=0.01, kernel=sigmoid, score=0.700, total=   0.1s\n",
            "[CV] C=0.1, gamma=0.01, kernel=sigmoid ...............................\n",
            "[CV] ... C=0.1, gamma=0.01, kernel=sigmoid, score=0.681, total=   0.1s\n",
            "[CV] C=0.1, gamma=0.01, kernel=sigmoid ...............................\n",
            "[CV] ... C=0.1, gamma=0.01, kernel=sigmoid, score=0.689, total=   0.1s\n",
            "[CV] C=0.1, gamma=0.01, kernel=sigmoid ...............................\n",
            "[CV] ... C=0.1, gamma=0.01, kernel=sigmoid, score=0.664, total=   0.1s\n",
            "[CV] C=0.1, gamma=0.01, kernel=sigmoid ...............................\n",
            "[CV] ... C=0.1, gamma=0.01, kernel=sigmoid, score=0.708, total=   0.1s\n",
            "[CV] C=0.1, gamma=0.001, kernel=linear ...............................\n",
            "[CV] ... C=0.1, gamma=0.001, kernel=linear, score=0.672, total=   0.1s\n",
            "[CV] C=0.1, gamma=0.001, kernel=linear ...............................\n",
            "[CV] ... C=0.1, gamma=0.001, kernel=linear, score=0.672, total=   0.1s\n",
            "[CV] C=0.1, gamma=0.001, kernel=linear ...............................\n",
            "[CV] ... C=0.1, gamma=0.001, kernel=linear, score=0.686, total=   0.1s\n",
            "[CV] C=0.1, gamma=0.001, kernel=linear ...............................\n",
            "[CV] ... C=0.1, gamma=0.001, kernel=linear, score=0.678, total=   0.1s\n",
            "[CV] C=0.1, gamma=0.001, kernel=linear ...............................\n",
            "[CV] ... C=0.1, gamma=0.001, kernel=linear, score=0.708, total=   0.1s\n",
            "[CV] C=0.1, gamma=0.001, kernel=rbf ..................................\n",
            "[CV] ...... C=0.1, gamma=0.001, kernel=rbf, score=0.552, total=   0.1s\n",
            "[CV] C=0.1, gamma=0.001, kernel=rbf ..................................\n",
            "[CV] ...... C=0.1, gamma=0.001, kernel=rbf, score=0.552, total=   0.1s\n",
            "[CV] C=0.1, gamma=0.001, kernel=rbf ..................................\n",
            "[CV] ...... C=0.1, gamma=0.001, kernel=rbf, score=0.552, total=   0.2s\n",
            "[CV] C=0.1, gamma=0.001, kernel=rbf ..................................\n",
            "[CV] ...... C=0.1, gamma=0.001, kernel=rbf, score=0.552, total=   0.1s\n",
            "[CV] C=0.1, gamma=0.001, kernel=rbf ..................................\n",
            "[CV] ...... C=0.1, gamma=0.001, kernel=rbf, score=0.553, total=   0.1s\n",
            "[CV] C=0.1, gamma=0.001, kernel=sigmoid ..............................\n",
            "[CV] .. C=0.1, gamma=0.001, kernel=sigmoid, score=0.552, total=   0.1s\n",
            "[CV] C=0.1, gamma=0.001, kernel=sigmoid ..............................\n",
            "[CV] .. C=0.1, gamma=0.001, kernel=sigmoid, score=0.552, total=   0.1s\n",
            "[CV] C=0.1, gamma=0.001, kernel=sigmoid ..............................\n",
            "[CV] .. C=0.1, gamma=0.001, kernel=sigmoid, score=0.552, total=   0.1s\n",
            "[CV] C=0.1, gamma=0.001, kernel=sigmoid ..............................\n",
            "[CV] .. C=0.1, gamma=0.001, kernel=sigmoid, score=0.552, total=   0.1s\n",
            "[CV] C=0.1, gamma=0.001, kernel=sigmoid ..............................\n",
            "[CV] .. C=0.1, gamma=0.001, kernel=sigmoid, score=0.553, total=   0.1s\n",
            "[CV] C=0.1, gamma=0.0001, kernel=linear ..............................\n",
            "[CV] .. C=0.1, gamma=0.0001, kernel=linear, score=0.672, total=   0.1s\n",
            "[CV] C=0.1, gamma=0.0001, kernel=linear ..............................\n",
            "[CV] .. C=0.1, gamma=0.0001, kernel=linear, score=0.672, total=   0.1s\n",
            "[CV] C=0.1, gamma=0.0001, kernel=linear ..............................\n",
            "[CV] .. C=0.1, gamma=0.0001, kernel=linear, score=0.686, total=   0.1s\n",
            "[CV] C=0.1, gamma=0.0001, kernel=linear ..............................\n",
            "[CV] .. C=0.1, gamma=0.0001, kernel=linear, score=0.678, total=   0.1s\n",
            "[CV] C=0.1, gamma=0.0001, kernel=linear ..............................\n",
            "[CV] .. C=0.1, gamma=0.0001, kernel=linear, score=0.708, total=   0.1s\n",
            "[CV] C=0.1, gamma=0.0001, kernel=rbf .................................\n",
            "[CV] ..... C=0.1, gamma=0.0001, kernel=rbf, score=0.552, total=   0.1s\n",
            "[CV] C=0.1, gamma=0.0001, kernel=rbf .................................\n",
            "[CV] ..... C=0.1, gamma=0.0001, kernel=rbf, score=0.552, total=   0.1s\n",
            "[CV] C=0.1, gamma=0.0001, kernel=rbf .................................\n",
            "[CV] ..... C=0.1, gamma=0.0001, kernel=rbf, score=0.552, total=   0.1s\n",
            "[CV] C=0.1, gamma=0.0001, kernel=rbf .................................\n",
            "[CV] ..... C=0.1, gamma=0.0001, kernel=rbf, score=0.552, total=   0.1s\n",
            "[CV] C=0.1, gamma=0.0001, kernel=rbf .................................\n",
            "[CV] ..... C=0.1, gamma=0.0001, kernel=rbf, score=0.553, total=   0.1s\n",
            "[CV] C=0.1, gamma=0.0001, kernel=sigmoid .............................\n",
            "[CV] . C=0.1, gamma=0.0001, kernel=sigmoid, score=0.552, total=   0.1s\n",
            "[CV] C=0.1, gamma=0.0001, kernel=sigmoid .............................\n",
            "[CV] . C=0.1, gamma=0.0001, kernel=sigmoid, score=0.552, total=   0.1s\n",
            "[CV] C=0.1, gamma=0.0001, kernel=sigmoid .............................\n",
            "[CV] . C=0.1, gamma=0.0001, kernel=sigmoid, score=0.552, total=   0.1s\n",
            "[CV] C=0.1, gamma=0.0001, kernel=sigmoid .............................\n",
            "[CV] . C=0.1, gamma=0.0001, kernel=sigmoid, score=0.552, total=   0.1s\n",
            "[CV] C=0.1, gamma=0.0001, kernel=sigmoid .............................\n",
            "[CV] . C=0.1, gamma=0.0001, kernel=sigmoid, score=0.553, total=   0.1s\n",
            "[CV] C=1, gamma=1, kernel=linear .....................................\n",
            "[CV] ......... C=1, gamma=1, kernel=linear, score=0.678, total=   0.2s\n",
            "[CV] C=1, gamma=1, kernel=linear .....................................\n",
            "[CV] ......... C=1, gamma=1, kernel=linear, score=0.669, total=   0.2s\n",
            "[CV] C=1, gamma=1, kernel=linear .....................................\n",
            "[CV] ......... C=1, gamma=1, kernel=linear, score=0.686, total=   0.2s\n",
            "[CV] C=1, gamma=1, kernel=linear .....................................\n",
            "[CV] ......... C=1, gamma=1, kernel=linear, score=0.678, total=   0.2s\n",
            "[CV] C=1, gamma=1, kernel=linear .....................................\n",
            "[CV] ......... C=1, gamma=1, kernel=linear, score=0.711, total=   0.2s\n",
            "[CV] C=1, gamma=1, kernel=rbf ........................................\n",
            "[CV] ............ C=1, gamma=1, kernel=rbf, score=0.571, total=   0.2s\n",
            "[CV] C=1, gamma=1, kernel=rbf ........................................\n",
            "[CV] ............ C=1, gamma=1, kernel=rbf, score=0.574, total=   0.2s\n",
            "[CV] C=1, gamma=1, kernel=rbf ........................................\n",
            "[CV] ............ C=1, gamma=1, kernel=rbf, score=0.583, total=   0.2s\n",
            "[CV] C=1, gamma=1, kernel=rbf ........................................\n",
            "[CV] ............ C=1, gamma=1, kernel=rbf, score=0.577, total=   0.2s\n",
            "[CV] C=1, gamma=1, kernel=rbf ........................................\n",
            "[CV] ............ C=1, gamma=1, kernel=rbf, score=0.579, total=   0.2s\n",
            "[CV] C=1, gamma=1, kernel=sigmoid ....................................\n",
            "[CV] ........ C=1, gamma=1, kernel=sigmoid, score=0.555, total=   0.1s\n",
            "[CV] C=1, gamma=1, kernel=sigmoid ....................................\n",
            "[CV] ........ C=1, gamma=1, kernel=sigmoid, score=0.552, total=   0.1s\n",
            "[CV] C=1, gamma=1, kernel=sigmoid ....................................\n",
            "[CV] ........ C=1, gamma=1, kernel=sigmoid, score=0.566, total=   0.1s\n",
            "[CV] C=1, gamma=1, kernel=sigmoid ....................................\n",
            "[CV] ........ C=1, gamma=1, kernel=sigmoid, score=0.599, total=   0.1s\n",
            "[CV] C=1, gamma=1, kernel=sigmoid ....................................\n",
            "[CV] ........ C=1, gamma=1, kernel=sigmoid, score=0.573, total=   0.1s\n",
            "[CV] C=1, gamma=0.1, kernel=linear ...................................\n",
            "[CV] ....... C=1, gamma=0.1, kernel=linear, score=0.678, total=   0.2s\n",
            "[CV] C=1, gamma=0.1, kernel=linear ...................................\n",
            "[CV] ....... C=1, gamma=0.1, kernel=linear, score=0.669, total=   0.2s\n",
            "[CV] C=1, gamma=0.1, kernel=linear ...................................\n",
            "[CV] ....... C=1, gamma=0.1, kernel=linear, score=0.686, total=   0.2s\n",
            "[CV] C=1, gamma=0.1, kernel=linear ...................................\n",
            "[CV] ....... C=1, gamma=0.1, kernel=linear, score=0.678, total=   0.2s\n",
            "[CV] C=1, gamma=0.1, kernel=linear ...................................\n",
            "[CV] ....... C=1, gamma=0.1, kernel=linear, score=0.711, total=   0.2s\n",
            "[CV] C=1, gamma=0.1, kernel=rbf ......................................\n",
            "[CV] .......... C=1, gamma=0.1, kernel=rbf, score=0.720, total=   0.2s\n",
            "[CV] C=1, gamma=0.1, kernel=rbf ......................................\n",
            "[CV] .......... C=1, gamma=0.1, kernel=rbf, score=0.667, total=   0.2s\n",
            "[CV] C=1, gamma=0.1, kernel=rbf ......................................\n",
            "[CV] .......... C=1, gamma=0.1, kernel=rbf, score=0.692, total=   0.2s\n",
            "[CV] C=1, gamma=0.1, kernel=rbf ......................................\n",
            "[CV] .......... C=1, gamma=0.1, kernel=rbf, score=0.675, total=   0.2s\n",
            "[CV] C=1, gamma=0.1, kernel=rbf ......................................\n",
            "[CV] .......... C=1, gamma=0.1, kernel=rbf, score=0.719, total=   0.2s\n",
            "[CV] C=1, gamma=0.1, kernel=sigmoid ..................................\n",
            "[CV] ...... C=1, gamma=0.1, kernel=sigmoid, score=0.647, total=   0.1s\n",
            "[CV] C=1, gamma=0.1, kernel=sigmoid ..................................\n",
            "[CV] ...... C=1, gamma=0.1, kernel=sigmoid, score=0.574, total=   0.1s\n",
            "[CV] C=1, gamma=0.1, kernel=sigmoid ..................................\n",
            "[CV] ...... C=1, gamma=0.1, kernel=sigmoid, score=0.588, total=   0.1s\n",
            "[CV] C=1, gamma=0.1, kernel=sigmoid ..................................\n",
            "[CV] ...... C=1, gamma=0.1, kernel=sigmoid, score=0.619, total=   0.1s\n",
            "[CV] C=1, gamma=0.1, kernel=sigmoid ..................................\n",
            "[CV] ...... C=1, gamma=0.1, kernel=sigmoid, score=0.604, total=   0.1s\n",
            "[CV] C=1, gamma=0.01, kernel=linear ..................................\n",
            "[CV] ...... C=1, gamma=0.01, kernel=linear, score=0.678, total=   0.1s\n",
            "[CV] C=1, gamma=0.01, kernel=linear ..................................\n",
            "[CV] ...... C=1, gamma=0.01, kernel=linear, score=0.669, total=   0.2s\n",
            "[CV] C=1, gamma=0.01, kernel=linear ..................................\n",
            "[CV] ...... C=1, gamma=0.01, kernel=linear, score=0.686, total=   0.2s\n",
            "[CV] C=1, gamma=0.01, kernel=linear ..................................\n",
            "[CV] ...... C=1, gamma=0.01, kernel=linear, score=0.678, total=   0.2s\n",
            "[CV] C=1, gamma=0.01, kernel=linear ..................................\n",
            "[CV] ...... C=1, gamma=0.01, kernel=linear, score=0.711, total=   0.2s\n",
            "[CV] C=1, gamma=0.01, kernel=rbf .....................................\n",
            "[CV] ......... C=1, gamma=0.01, kernel=rbf, score=0.703, total=   0.1s\n",
            "[CV] C=1, gamma=0.01, kernel=rbf .....................................\n",
            "[CV] ......... C=1, gamma=0.01, kernel=rbf, score=0.681, total=   0.1s\n",
            "[CV] C=1, gamma=0.01, kernel=rbf .....................................\n",
            "[CV] ......... C=1, gamma=0.01, kernel=rbf, score=0.695, total=   0.1s\n",
            "[CV] C=1, gamma=0.01, kernel=rbf .....................................\n",
            "[CV] ......... C=1, gamma=0.01, kernel=rbf, score=0.664, total=   0.1s\n",
            "[CV] C=1, gamma=0.01, kernel=rbf .....................................\n",
            "[CV] ......... C=1, gamma=0.01, kernel=rbf, score=0.702, total=   0.1s\n",
            "[CV] C=1, gamma=0.01, kernel=sigmoid .................................\n",
            "[CV] ..... C=1, gamma=0.01, kernel=sigmoid, score=0.689, total=   0.1s\n",
            "[CV] C=1, gamma=0.01, kernel=sigmoid .................................\n",
            "[CV] ..... C=1, gamma=0.01, kernel=sigmoid, score=0.683, total=   0.1s\n",
            "[CV] C=1, gamma=0.01, kernel=sigmoid .................................\n",
            "[CV] ..... C=1, gamma=0.01, kernel=sigmoid, score=0.703, total=   0.1s\n",
            "[CV] C=1, gamma=0.01, kernel=sigmoid .................................\n",
            "[CV] ..... C=1, gamma=0.01, kernel=sigmoid, score=0.669, total=   0.1s\n",
            "[CV] C=1, gamma=0.01, kernel=sigmoid .................................\n",
            "[CV] ..... C=1, gamma=0.01, kernel=sigmoid, score=0.705, total=   0.1s\n",
            "[CV] C=1, gamma=0.001, kernel=linear .................................\n",
            "[CV] ..... C=1, gamma=0.001, kernel=linear, score=0.678, total=   0.1s\n",
            "[CV] C=1, gamma=0.001, kernel=linear .................................\n",
            "[CV] ..... C=1, gamma=0.001, kernel=linear, score=0.669, total=   0.2s\n",
            "[CV] C=1, gamma=0.001, kernel=linear .................................\n",
            "[CV] ..... C=1, gamma=0.001, kernel=linear, score=0.686, total=   0.2s\n",
            "[CV] C=1, gamma=0.001, kernel=linear .................................\n",
            "[CV] ..... C=1, gamma=0.001, kernel=linear, score=0.678, total=   0.2s\n",
            "[CV] C=1, gamma=0.001, kernel=linear .................................\n",
            "[CV] ..... C=1, gamma=0.001, kernel=linear, score=0.711, total=   0.2s\n",
            "[CV] C=1, gamma=0.001, kernel=rbf ....................................\n",
            "[CV] ........ C=1, gamma=0.001, kernel=rbf, score=0.697, total=   0.1s\n",
            "[CV] C=1, gamma=0.001, kernel=rbf ....................................\n",
            "[CV] ........ C=1, gamma=0.001, kernel=rbf, score=0.675, total=   0.1s\n",
            "[CV] C=1, gamma=0.001, kernel=rbf ....................................\n",
            "[CV] ........ C=1, gamma=0.001, kernel=rbf, score=0.700, total=   0.1s\n",
            "[CV] C=1, gamma=0.001, kernel=rbf ....................................\n",
            "[CV] ........ C=1, gamma=0.001, kernel=rbf, score=0.661, total=   0.1s\n",
            "[CV] C=1, gamma=0.001, kernel=rbf ....................................\n",
            "[CV] ........ C=1, gamma=0.001, kernel=rbf, score=0.705, total=   0.1s\n",
            "[CV] C=1, gamma=0.001, kernel=sigmoid ................................\n",
            "[CV] .... C=1, gamma=0.001, kernel=sigmoid, score=0.700, total=   0.1s\n",
            "[CV] C=1, gamma=0.001, kernel=sigmoid ................................\n",
            "[CV] .... C=1, gamma=0.001, kernel=sigmoid, score=0.681, total=   0.1s\n",
            "[CV] C=1, gamma=0.001, kernel=sigmoid ................................\n",
            "[CV] .... C=1, gamma=0.001, kernel=sigmoid, score=0.692, total=   0.1s\n",
            "[CV] C=1, gamma=0.001, kernel=sigmoid ................................\n",
            "[CV] .... C=1, gamma=0.001, kernel=sigmoid, score=0.661, total=   0.1s\n",
            "[CV] C=1, gamma=0.001, kernel=sigmoid ................................\n",
            "[CV] .... C=1, gamma=0.001, kernel=sigmoid, score=0.708, total=   0.1s\n",
            "[CV] C=1, gamma=0.0001, kernel=linear ................................\n",
            "[CV] .... C=1, gamma=0.0001, kernel=linear, score=0.678, total=   0.1s\n",
            "[CV] C=1, gamma=0.0001, kernel=linear ................................\n",
            "[CV] .... C=1, gamma=0.0001, kernel=linear, score=0.669, total=   0.2s\n",
            "[CV] C=1, gamma=0.0001, kernel=linear ................................\n",
            "[CV] .... C=1, gamma=0.0001, kernel=linear, score=0.686, total=   0.2s\n",
            "[CV] C=1, gamma=0.0001, kernel=linear ................................\n",
            "[CV] .... C=1, gamma=0.0001, kernel=linear, score=0.678, total=   0.2s\n",
            "[CV] C=1, gamma=0.0001, kernel=linear ................................\n",
            "[CV] .... C=1, gamma=0.0001, kernel=linear, score=0.711, total=   0.2s\n",
            "[CV] C=1, gamma=0.0001, kernel=rbf ...................................\n",
            "[CV] ....... C=1, gamma=0.0001, kernel=rbf, score=0.552, total=   0.1s\n",
            "[CV] C=1, gamma=0.0001, kernel=rbf ...................................\n",
            "[CV] ....... C=1, gamma=0.0001, kernel=rbf, score=0.552, total=   0.1s\n",
            "[CV] C=1, gamma=0.0001, kernel=rbf ...................................\n",
            "[CV] ....... C=1, gamma=0.0001, kernel=rbf, score=0.552, total=   0.1s\n",
            "[CV] C=1, gamma=0.0001, kernel=rbf ...................................\n",
            "[CV] ....... C=1, gamma=0.0001, kernel=rbf, score=0.552, total=   0.1s\n",
            "[CV] C=1, gamma=0.0001, kernel=rbf ...................................\n",
            "[CV] ....... C=1, gamma=0.0001, kernel=rbf, score=0.553, total=   0.1s\n",
            "[CV] C=1, gamma=0.0001, kernel=sigmoid ...............................\n",
            "[CV] ... C=1, gamma=0.0001, kernel=sigmoid, score=0.552, total=   0.1s\n",
            "[CV] C=1, gamma=0.0001, kernel=sigmoid ...............................\n",
            "[CV] ... C=1, gamma=0.0001, kernel=sigmoid, score=0.552, total=   0.1s\n",
            "[CV] C=1, gamma=0.0001, kernel=sigmoid ...............................\n",
            "[CV] ... C=1, gamma=0.0001, kernel=sigmoid, score=0.552, total=   0.1s\n",
            "[CV] C=1, gamma=0.0001, kernel=sigmoid ...............................\n",
            "[CV] ... C=1, gamma=0.0001, kernel=sigmoid, score=0.552, total=   0.1s\n",
            "[CV] C=1, gamma=0.0001, kernel=sigmoid ...............................\n",
            "[CV] ... C=1, gamma=0.0001, kernel=sigmoid, score=0.553, total=   0.1s\n",
            "[CV] C=10, gamma=1, kernel=linear ....................................\n",
            "[CV] ........ C=10, gamma=1, kernel=linear, score=0.678, total=   0.7s\n",
            "[CV] C=10, gamma=1, kernel=linear ....................................\n",
            "[CV] ........ C=10, gamma=1, kernel=linear, score=0.675, total=   0.8s\n",
            "[CV] C=10, gamma=1, kernel=linear ....................................\n",
            "[CV] ........ C=10, gamma=1, kernel=linear, score=0.683, total=   0.7s\n",
            "[CV] C=10, gamma=1, kernel=linear ....................................\n",
            "[CV] ........ C=10, gamma=1, kernel=linear, score=0.672, total=   0.7s\n",
            "[CV] C=10, gamma=1, kernel=linear ....................................\n",
            "[CV] ........ C=10, gamma=1, kernel=linear, score=0.711, total=   0.7s\n",
            "[CV] C=10, gamma=1, kernel=rbf .......................................\n",
            "[CV] ........... C=10, gamma=1, kernel=rbf, score=0.571, total=   0.2s\n",
            "[CV] C=10, gamma=1, kernel=rbf .......................................\n",
            "[CV] ........... C=10, gamma=1, kernel=rbf, score=0.580, total=   0.2s\n",
            "[CV] C=10, gamma=1, kernel=rbf .......................................\n",
            "[CV] ........... C=10, gamma=1, kernel=rbf, score=0.588, total=   0.2s\n",
            "[CV] C=10, gamma=1, kernel=rbf .......................................\n",
            "[CV] ........... C=10, gamma=1, kernel=rbf, score=0.583, total=   0.2s\n",
            "[CV] C=10, gamma=1, kernel=rbf .......................................\n",
            "[CV] ........... C=10, gamma=1, kernel=rbf, score=0.593, total=   0.2s\n",
            "[CV] C=10, gamma=1, kernel=sigmoid ...................................\n",
            "[CV] ....... C=10, gamma=1, kernel=sigmoid, score=0.552, total=   0.1s\n",
            "[CV] C=10, gamma=1, kernel=sigmoid ...................................\n",
            "[CV] ....... C=10, gamma=1, kernel=sigmoid, score=0.555, total=   0.1s\n",
            "[CV] C=10, gamma=1, kernel=sigmoid ...................................\n",
            "[CV] ....... C=10, gamma=1, kernel=sigmoid, score=0.566, total=   0.1s\n",
            "[CV] C=10, gamma=1, kernel=sigmoid ...................................\n",
            "[CV] ....... C=10, gamma=1, kernel=sigmoid, score=0.608, total=   0.1s\n",
            "[CV] C=10, gamma=1, kernel=sigmoid ...................................\n",
            "[CV] ....... C=10, gamma=1, kernel=sigmoid, score=0.576, total=   0.1s\n",
            "[CV] C=10, gamma=0.1, kernel=linear ..................................\n",
            "[CV] ...... C=10, gamma=0.1, kernel=linear, score=0.678, total=   0.7s\n",
            "[CV] C=10, gamma=0.1, kernel=linear ..................................\n",
            "[CV] ...... C=10, gamma=0.1, kernel=linear, score=0.675, total=   0.8s\n",
            "[CV] C=10, gamma=0.1, kernel=linear ..................................\n",
            "[CV] ...... C=10, gamma=0.1, kernel=linear, score=0.683, total=   0.7s\n",
            "[CV] C=10, gamma=0.1, kernel=linear ..................................\n",
            "[CV] ...... C=10, gamma=0.1, kernel=linear, score=0.672, total=   0.7s\n",
            "[CV] C=10, gamma=0.1, kernel=linear ..................................\n",
            "[CV] ...... C=10, gamma=0.1, kernel=linear, score=0.711, total=   0.7s\n",
            "[CV] C=10, gamma=0.1, kernel=rbf .....................................\n",
            "[CV] ......... C=10, gamma=0.1, kernel=rbf, score=0.664, total=   0.2s\n",
            "[CV] C=10, gamma=0.1, kernel=rbf .....................................\n",
            "[CV] ......... C=10, gamma=0.1, kernel=rbf, score=0.639, total=   0.2s\n",
            "[CV] C=10, gamma=0.1, kernel=rbf .....................................\n",
            "[CV] ......... C=10, gamma=0.1, kernel=rbf, score=0.644, total=   0.2s\n",
            "[CV] C=10, gamma=0.1, kernel=rbf .....................................\n",
            "[CV] ......... C=10, gamma=0.1, kernel=rbf, score=0.650, total=   0.2s\n",
            "[CV] C=10, gamma=0.1, kernel=rbf .....................................\n",
            "[CV] ......... C=10, gamma=0.1, kernel=rbf, score=0.669, total=   0.2s\n",
            "[CV] C=10, gamma=0.1, kernel=sigmoid .................................\n",
            "[CV] ..... C=10, gamma=0.1, kernel=sigmoid, score=0.644, total=   0.1s\n",
            "[CV] C=10, gamma=0.1, kernel=sigmoid .................................\n",
            "[CV] ..... C=10, gamma=0.1, kernel=sigmoid, score=0.569, total=   0.1s\n",
            "[CV] C=10, gamma=0.1, kernel=sigmoid .................................\n",
            "[CV] ..... C=10, gamma=0.1, kernel=sigmoid, score=0.577, total=   0.1s\n",
            "[CV] C=10, gamma=0.1, kernel=sigmoid .................................\n",
            "[CV] ..... C=10, gamma=0.1, kernel=sigmoid, score=0.613, total=   0.1s\n",
            "[CV] C=10, gamma=0.1, kernel=sigmoid .................................\n",
            "[CV] ..... C=10, gamma=0.1, kernel=sigmoid, score=0.593, total=   0.1s\n",
            "[CV] C=10, gamma=0.01, kernel=linear .................................\n",
            "[CV] ..... C=10, gamma=0.01, kernel=linear, score=0.678, total=   0.7s\n",
            "[CV] C=10, gamma=0.01, kernel=linear .................................\n",
            "[CV] ..... C=10, gamma=0.01, kernel=linear, score=0.675, total=   0.8s\n",
            "[CV] C=10, gamma=0.01, kernel=linear .................................\n",
            "[CV] ..... C=10, gamma=0.01, kernel=linear, score=0.683, total=   0.7s\n",
            "[CV] C=10, gamma=0.01, kernel=linear .................................\n",
            "[CV] ..... C=10, gamma=0.01, kernel=linear, score=0.672, total=   0.7s\n",
            "[CV] C=10, gamma=0.01, kernel=linear .................................\n",
            "[CV] ..... C=10, gamma=0.01, kernel=linear, score=0.711, total=   0.7s\n",
            "[CV] C=10, gamma=0.01, kernel=rbf ....................................\n",
            "[CV] ........ C=10, gamma=0.01, kernel=rbf, score=0.709, total=   0.1s\n",
            "[CV] C=10, gamma=0.01, kernel=rbf ....................................\n",
            "[CV] ........ C=10, gamma=0.01, kernel=rbf, score=0.697, total=   0.1s\n",
            "[CV] C=10, gamma=0.01, kernel=rbf ....................................\n",
            "[CV] ........ C=10, gamma=0.01, kernel=rbf, score=0.661, total=   0.1s\n",
            "[CV] C=10, gamma=0.01, kernel=rbf ....................................\n",
            "[CV] ........ C=10, gamma=0.01, kernel=rbf, score=0.675, total=   0.1s\n",
            "[CV] C=10, gamma=0.01, kernel=rbf ....................................\n",
            "[CV] ........ C=10, gamma=0.01, kernel=rbf, score=0.699, total=   0.1s\n",
            "[CV] C=10, gamma=0.01, kernel=sigmoid ................................\n",
            "[CV] .... C=10, gamma=0.01, kernel=sigmoid, score=0.714, total=   0.1s\n",
            "[CV] C=10, gamma=0.01, kernel=sigmoid ................................\n",
            "[CV] .... C=10, gamma=0.01, kernel=sigmoid, score=0.667, total=   0.1s\n",
            "[CV] C=10, gamma=0.01, kernel=sigmoid ................................\n",
            "[CV] .... C=10, gamma=0.01, kernel=sigmoid, score=0.678, total=   0.1s\n",
            "[CV] C=10, gamma=0.01, kernel=sigmoid ................................\n",
            "[CV] .... C=10, gamma=0.01, kernel=sigmoid, score=0.644, total=   0.1s\n",
            "[CV] C=10, gamma=0.01, kernel=sigmoid ................................\n",
            "[CV] .... C=10, gamma=0.01, kernel=sigmoid, score=0.683, total=   0.1s\n",
            "[CV] C=10, gamma=0.001, kernel=linear ................................\n",
            "[CV] .... C=10, gamma=0.001, kernel=linear, score=0.678, total=   0.7s\n",
            "[CV] C=10, gamma=0.001, kernel=linear ................................\n",
            "[CV] .... C=10, gamma=0.001, kernel=linear, score=0.675, total=   0.8s\n",
            "[CV] C=10, gamma=0.001, kernel=linear ................................\n",
            "[CV] .... C=10, gamma=0.001, kernel=linear, score=0.683, total=   0.7s\n",
            "[CV] C=10, gamma=0.001, kernel=linear ................................\n",
            "[CV] .... C=10, gamma=0.001, kernel=linear, score=0.672, total=   0.7s\n",
            "[CV] C=10, gamma=0.001, kernel=linear ................................\n",
            "[CV] .... C=10, gamma=0.001, kernel=linear, score=0.711, total=   0.7s\n",
            "[CV] C=10, gamma=0.001, kernel=rbf ...................................\n",
            "[CV] ....... C=10, gamma=0.001, kernel=rbf, score=0.675, total=   0.1s\n",
            "[CV] C=10, gamma=0.001, kernel=rbf ...................................\n",
            "[CV] ....... C=10, gamma=0.001, kernel=rbf, score=0.686, total=   0.1s\n",
            "[CV] C=10, gamma=0.001, kernel=rbf ...................................\n",
            "[CV] ....... C=10, gamma=0.001, kernel=rbf, score=0.695, total=   0.1s\n",
            "[CV] C=10, gamma=0.001, kernel=rbf ...................................\n",
            "[CV] ....... C=10, gamma=0.001, kernel=rbf, score=0.678, total=   0.1s\n",
            "[CV] C=10, gamma=0.001, kernel=rbf ...................................\n",
            "[CV] ....... C=10, gamma=0.001, kernel=rbf, score=0.708, total=   0.1s\n",
            "[CV] C=10, gamma=0.001, kernel=sigmoid ...............................\n",
            "[CV] ... C=10, gamma=0.001, kernel=sigmoid, score=0.689, total=   0.1s\n",
            "[CV] C=10, gamma=0.001, kernel=sigmoid ...............................\n",
            "[CV] ... C=10, gamma=0.001, kernel=sigmoid, score=0.683, total=   0.1s\n",
            "[CV] C=10, gamma=0.001, kernel=sigmoid ...............................\n",
            "[CV] ... C=10, gamma=0.001, kernel=sigmoid, score=0.703, total=   0.1s\n",
            "[CV] C=10, gamma=0.001, kernel=sigmoid ...............................\n",
            "[CV] ... C=10, gamma=0.001, kernel=sigmoid, score=0.669, total=   0.1s\n",
            "[CV] C=10, gamma=0.001, kernel=sigmoid ...............................\n",
            "[CV] ... C=10, gamma=0.001, kernel=sigmoid, score=0.708, total=   0.1s\n",
            "[CV] C=10, gamma=0.0001, kernel=linear ...............................\n",
            "[CV] ... C=10, gamma=0.0001, kernel=linear, score=0.678, total=   0.7s\n",
            "[CV] C=10, gamma=0.0001, kernel=linear ...............................\n",
            "[CV] ... C=10, gamma=0.0001, kernel=linear, score=0.675, total=   0.8s\n",
            "[CV] C=10, gamma=0.0001, kernel=linear ...............................\n",
            "[CV] ... C=10, gamma=0.0001, kernel=linear, score=0.683, total=   0.7s\n",
            "[CV] C=10, gamma=0.0001, kernel=linear ...............................\n",
            "[CV] ... C=10, gamma=0.0001, kernel=linear, score=0.672, total=   0.7s\n",
            "[CV] C=10, gamma=0.0001, kernel=linear ...............................\n",
            "[CV] ... C=10, gamma=0.0001, kernel=linear, score=0.711, total=   0.7s\n",
            "[CV] C=10, gamma=0.0001, kernel=rbf ..................................\n",
            "[CV] ...... C=10, gamma=0.0001, kernel=rbf, score=0.697, total=   0.1s\n",
            "[CV] C=10, gamma=0.0001, kernel=rbf ..................................\n",
            "[CV] ...... C=10, gamma=0.0001, kernel=rbf, score=0.675, total=   0.1s\n",
            "[CV] C=10, gamma=0.0001, kernel=rbf ..................................\n",
            "[CV] ...... C=10, gamma=0.0001, kernel=rbf, score=0.706, total=   0.1s\n",
            "[CV] C=10, gamma=0.0001, kernel=rbf ..................................\n",
            "[CV] ...... C=10, gamma=0.0001, kernel=rbf, score=0.658, total=   0.1s\n",
            "[CV] C=10, gamma=0.0001, kernel=rbf ..................................\n",
            "[CV] ...... C=10, gamma=0.0001, kernel=rbf, score=0.705, total=   0.1s\n",
            "[CV] C=10, gamma=0.0001, kernel=sigmoid ..............................\n",
            "[CV] .. C=10, gamma=0.0001, kernel=sigmoid, score=0.700, total=   0.1s\n",
            "[CV] C=10, gamma=0.0001, kernel=sigmoid ..............................\n",
            "[CV] .. C=10, gamma=0.0001, kernel=sigmoid, score=0.681, total=   0.1s\n",
            "[CV] C=10, gamma=0.0001, kernel=sigmoid ..............................\n",
            "[CV] .. C=10, gamma=0.0001, kernel=sigmoid, score=0.692, total=   0.1s\n",
            "[CV] C=10, gamma=0.0001, kernel=sigmoid ..............................\n",
            "[CV] .. C=10, gamma=0.0001, kernel=sigmoid, score=0.661, total=   0.1s\n",
            "[CV] C=10, gamma=0.0001, kernel=sigmoid ..............................\n",
            "[CV] .. C=10, gamma=0.0001, kernel=sigmoid, score=0.708, total=   0.1s\n",
            "[CV] C=100, gamma=1, kernel=linear ...................................\n",
            "[CV] ....... C=100, gamma=1, kernel=linear, score=0.678, total=   5.7s\n",
            "[CV] C=100, gamma=1, kernel=linear ...................................\n",
            "[CV] ....... C=100, gamma=1, kernel=linear, score=0.672, total=   6.6s\n",
            "[CV] C=100, gamma=1, kernel=linear ...................................\n",
            "[CV] ....... C=100, gamma=1, kernel=linear, score=0.683, total=   7.8s\n",
            "[CV] C=100, gamma=1, kernel=linear ...................................\n",
            "[CV] ....... C=100, gamma=1, kernel=linear, score=0.672, total=   5.3s\n",
            "[CV] C=100, gamma=1, kernel=linear ...................................\n",
            "[CV] ....... C=100, gamma=1, kernel=linear, score=0.711, total=   5.6s\n",
            "[CV] C=100, gamma=1, kernel=rbf ......................................\n",
            "[CV] .......... C=100, gamma=1, kernel=rbf, score=0.571, total=   0.2s\n",
            "[CV] C=100, gamma=1, kernel=rbf ......................................\n",
            "[CV] .......... C=100, gamma=1, kernel=rbf, score=0.580, total=   0.2s\n",
            "[CV] C=100, gamma=1, kernel=rbf ......................................\n",
            "[CV] .......... C=100, gamma=1, kernel=rbf, score=0.588, total=   0.2s\n",
            "[CV] C=100, gamma=1, kernel=rbf ......................................\n",
            "[CV] .......... C=100, gamma=1, kernel=rbf, score=0.583, total=   0.2s\n",
            "[CV] C=100, gamma=1, kernel=rbf ......................................\n",
            "[CV] .......... C=100, gamma=1, kernel=rbf, score=0.593, total=   0.2s\n",
            "[CV] C=100, gamma=1, kernel=sigmoid ..................................\n",
            "[CV] ...... C=100, gamma=1, kernel=sigmoid, score=0.588, total=   0.1s\n",
            "[CV] C=100, gamma=1, kernel=sigmoid ..................................\n",
            "[CV] ...... C=100, gamma=1, kernel=sigmoid, score=0.571, total=   0.1s\n",
            "[CV] C=100, gamma=1, kernel=sigmoid ..................................\n",
            "[CV] ...... C=100, gamma=1, kernel=sigmoid, score=0.557, total=   0.1s\n",
            "[CV] C=100, gamma=1, kernel=sigmoid ..................................\n",
            "[CV] ...... C=100, gamma=1, kernel=sigmoid, score=0.602, total=   0.1s\n",
            "[CV] C=100, gamma=1, kernel=sigmoid ..................................\n",
            "[CV] ...... C=100, gamma=1, kernel=sigmoid, score=0.598, total=   0.1s\n",
            "[CV] C=100, gamma=0.1, kernel=linear .................................\n",
            "[CV] ..... C=100, gamma=0.1, kernel=linear, score=0.678, total=   5.7s\n",
            "[CV] C=100, gamma=0.1, kernel=linear .................................\n",
            "[CV] ..... C=100, gamma=0.1, kernel=linear, score=0.672, total=   6.6s\n",
            "[CV] C=100, gamma=0.1, kernel=linear .................................\n",
            "[CV] ..... C=100, gamma=0.1, kernel=linear, score=0.683, total=   7.8s\n",
            "[CV] C=100, gamma=0.1, kernel=linear .................................\n",
            "[CV] ..... C=100, gamma=0.1, kernel=linear, score=0.672, total=   5.3s\n",
            "[CV] C=100, gamma=0.1, kernel=linear .................................\n",
            "[CV] ..... C=100, gamma=0.1, kernel=linear, score=0.711, total=   5.6s\n",
            "[CV] C=100, gamma=0.1, kernel=rbf ....................................\n",
            "[CV] ........ C=100, gamma=0.1, kernel=rbf, score=0.672, total=   0.2s\n",
            "[CV] C=100, gamma=0.1, kernel=rbf ....................................\n",
            "[CV] ........ C=100, gamma=0.1, kernel=rbf, score=0.639, total=   0.2s\n",
            "[CV] C=100, gamma=0.1, kernel=rbf ....................................\n",
            "[CV] ........ C=100, gamma=0.1, kernel=rbf, score=0.647, total=   0.2s\n",
            "[CV] C=100, gamma=0.1, kernel=rbf ....................................\n",
            "[CV] ........ C=100, gamma=0.1, kernel=rbf, score=0.636, total=   0.2s\n",
            "[CV] C=100, gamma=0.1, kernel=rbf ....................................\n",
            "[CV] ........ C=100, gamma=0.1, kernel=rbf, score=0.671, total=   0.2s\n",
            "[CV] C=100, gamma=0.1, kernel=sigmoid ................................\n",
            "[CV] .... C=100, gamma=0.1, kernel=sigmoid, score=0.653, total=   0.1s\n",
            "[CV] C=100, gamma=0.1, kernel=sigmoid ................................\n",
            "[CV] .... C=100, gamma=0.1, kernel=sigmoid, score=0.580, total=   0.1s\n",
            "[CV] C=100, gamma=0.1, kernel=sigmoid ................................\n",
            "[CV] .... C=100, gamma=0.1, kernel=sigmoid, score=0.588, total=   0.1s\n",
            "[CV] C=100, gamma=0.1, kernel=sigmoid ................................\n",
            "[CV] .... C=100, gamma=0.1, kernel=sigmoid, score=0.619, total=   0.1s\n",
            "[CV] C=100, gamma=0.1, kernel=sigmoid ................................\n",
            "[CV] .... C=100, gamma=0.1, kernel=sigmoid, score=0.593, total=   0.1s\n",
            "[CV] C=100, gamma=0.01, kernel=linear ................................\n",
            "[CV] .... C=100, gamma=0.01, kernel=linear, score=0.678, total=   5.7s\n",
            "[CV] C=100, gamma=0.01, kernel=linear ................................\n",
            "[CV] .... C=100, gamma=0.01, kernel=linear, score=0.672, total=   6.6s\n",
            "[CV] C=100, gamma=0.01, kernel=linear ................................\n",
            "[CV] .... C=100, gamma=0.01, kernel=linear, score=0.683, total=   7.7s\n",
            "[CV] C=100, gamma=0.01, kernel=linear ................................\n",
            "[CV] .... C=100, gamma=0.01, kernel=linear, score=0.672, total=   5.3s\n",
            "[CV] C=100, gamma=0.01, kernel=linear ................................\n",
            "[CV] .... C=100, gamma=0.01, kernel=linear, score=0.711, total=   5.6s\n",
            "[CV] C=100, gamma=0.01, kernel=rbf ...................................\n",
            "[CV] ....... C=100, gamma=0.01, kernel=rbf, score=0.692, total=   0.3s\n",
            "[CV] C=100, gamma=0.01, kernel=rbf ...................................\n",
            "[CV] ....... C=100, gamma=0.01, kernel=rbf, score=0.630, total=   0.3s\n",
            "[CV] C=100, gamma=0.01, kernel=rbf ...................................\n",
            "[CV] ....... C=100, gamma=0.01, kernel=rbf, score=0.622, total=   0.3s\n",
            "[CV] C=100, gamma=0.01, kernel=rbf ...................................\n",
            "[CV] ....... C=100, gamma=0.01, kernel=rbf, score=0.664, total=   0.3s\n",
            "[CV] C=100, gamma=0.01, kernel=rbf ...................................\n",
            "[CV] ....... C=100, gamma=0.01, kernel=rbf, score=0.660, total=   0.3s\n",
            "[CV] C=100, gamma=0.01, kernel=sigmoid ...............................\n",
            "[CV] ... C=100, gamma=0.01, kernel=sigmoid, score=0.655, total=   0.1s\n",
            "[CV] C=100, gamma=0.01, kernel=sigmoid ...............................\n",
            "[CV] ... C=100, gamma=0.01, kernel=sigmoid, score=0.608, total=   0.1s\n",
            "[CV] C=100, gamma=0.01, kernel=sigmoid ...............................\n",
            "[CV] ... C=100, gamma=0.01, kernel=sigmoid, score=0.599, total=   0.1s\n",
            "[CV] C=100, gamma=0.01, kernel=sigmoid ...............................\n",
            "[CV] ... C=100, gamma=0.01, kernel=sigmoid, score=0.630, total=   0.1s\n",
            "[CV] C=100, gamma=0.01, kernel=sigmoid ...............................\n",
            "[CV] ... C=100, gamma=0.01, kernel=sigmoid, score=0.632, total=   0.1s\n",
            "[CV] C=100, gamma=0.001, kernel=linear ...............................\n",
            "[CV] ... C=100, gamma=0.001, kernel=linear, score=0.678, total=   5.7s\n",
            "[CV] C=100, gamma=0.001, kernel=linear ...............................\n",
            "[CV] ... C=100, gamma=0.001, kernel=linear, score=0.672, total=   6.6s\n",
            "[CV] C=100, gamma=0.001, kernel=linear ...............................\n",
            "[CV] ... C=100, gamma=0.001, kernel=linear, score=0.683, total=   7.7s\n",
            "[CV] C=100, gamma=0.001, kernel=linear ...............................\n",
            "[CV] ... C=100, gamma=0.001, kernel=linear, score=0.672, total=   5.3s\n",
            "[CV] C=100, gamma=0.001, kernel=linear ...............................\n",
            "[CV] ... C=100, gamma=0.001, kernel=linear, score=0.711, total=   5.6s\n",
            "[CV] C=100, gamma=0.001, kernel=rbf ..................................\n",
            "[CV] ...... C=100, gamma=0.001, kernel=rbf, score=0.706, total=   0.1s\n",
            "[CV] C=100, gamma=0.001, kernel=rbf ..................................\n",
            "[CV] ...... C=100, gamma=0.001, kernel=rbf, score=0.686, total=   0.1s\n",
            "[CV] C=100, gamma=0.001, kernel=rbf ..................................\n",
            "[CV] ...... C=100, gamma=0.001, kernel=rbf, score=0.697, total=   0.1s\n",
            "[CV] C=100, gamma=0.001, kernel=rbf ..................................\n",
            "[CV] ...... C=100, gamma=0.001, kernel=rbf, score=0.658, total=   0.1s\n",
            "[CV] C=100, gamma=0.001, kernel=rbf ..................................\n",
            "[CV] ...... C=100, gamma=0.001, kernel=rbf, score=0.702, total=   0.1s\n",
            "[CV] C=100, gamma=0.001, kernel=sigmoid ..............................\n",
            "[CV] .. C=100, gamma=0.001, kernel=sigmoid, score=0.672, total=   0.1s\n",
            "[CV] C=100, gamma=0.001, kernel=sigmoid ..............................\n",
            "[CV] .. C=100, gamma=0.001, kernel=sigmoid, score=0.672, total=   0.1s\n",
            "[CV] C=100, gamma=0.001, kernel=sigmoid ..............................\n",
            "[CV] .. C=100, gamma=0.001, kernel=sigmoid, score=0.689, total=   0.1s\n",
            "[CV] C=100, gamma=0.001, kernel=sigmoid ..............................\n",
            "[CV] .. C=100, gamma=0.001, kernel=sigmoid, score=0.675, total=   0.1s\n",
            "[CV] C=100, gamma=0.001, kernel=sigmoid ..............................\n",
            "[CV] .. C=100, gamma=0.001, kernel=sigmoid, score=0.711, total=   0.1s\n",
            "[CV] C=100, gamma=0.0001, kernel=linear ..............................\n",
            "[CV] .. C=100, gamma=0.0001, kernel=linear, score=0.678, total=   5.7s\n",
            "[CV] C=100, gamma=0.0001, kernel=linear ..............................\n",
            "[CV] .. C=100, gamma=0.0001, kernel=linear, score=0.672, total=   6.6s\n",
            "[CV] C=100, gamma=0.0001, kernel=linear ..............................\n",
            "[CV] .. C=100, gamma=0.0001, kernel=linear, score=0.683, total=   7.7s\n",
            "[CV] C=100, gamma=0.0001, kernel=linear ..............................\n",
            "[CV] .. C=100, gamma=0.0001, kernel=linear, score=0.672, total=   5.3s\n",
            "[CV] C=100, gamma=0.0001, kernel=linear ..............................\n",
            "[CV] .. C=100, gamma=0.0001, kernel=linear, score=0.711, total=   5.6s\n",
            "[CV] C=100, gamma=0.0001, kernel=rbf .................................\n",
            "[CV] ..... C=100, gamma=0.0001, kernel=rbf, score=0.681, total=   0.1s\n",
            "[CV] C=100, gamma=0.0001, kernel=rbf .................................\n",
            "[CV] ..... C=100, gamma=0.0001, kernel=rbf, score=0.686, total=   0.1s\n",
            "[CV] C=100, gamma=0.0001, kernel=rbf .................................\n",
            "[CV] ..... C=100, gamma=0.0001, kernel=rbf, score=0.689, total=   0.1s\n",
            "[CV] C=100, gamma=0.0001, kernel=rbf .................................\n",
            "[CV] ..... C=100, gamma=0.0001, kernel=rbf, score=0.672, total=   0.1s\n",
            "[CV] C=100, gamma=0.0001, kernel=rbf .................................\n",
            "[CV] ..... C=100, gamma=0.0001, kernel=rbf, score=0.705, total=   0.1s\n",
            "[CV] C=100, gamma=0.0001, kernel=sigmoid .............................\n",
            "[CV] . C=100, gamma=0.0001, kernel=sigmoid, score=0.689, total=   0.1s\n",
            "[CV] C=100, gamma=0.0001, kernel=sigmoid .............................\n",
            "[CV] . C=100, gamma=0.0001, kernel=sigmoid, score=0.683, total=   0.1s\n",
            "[CV] C=100, gamma=0.0001, kernel=sigmoid .............................\n",
            "[CV] . C=100, gamma=0.0001, kernel=sigmoid, score=0.703, total=   0.1s\n",
            "[CV] C=100, gamma=0.0001, kernel=sigmoid .............................\n",
            "[CV] . C=100, gamma=0.0001, kernel=sigmoid, score=0.669, total=   0.1s\n",
            "[CV] C=100, gamma=0.0001, kernel=sigmoid .............................\n",
            "[CV] . C=100, gamma=0.0001, kernel=sigmoid, score=0.708, total=   0.1s\n",
            "[CV] C=1000, gamma=1, kernel=linear ..................................\n",
            "[CV] ...... C=1000, gamma=1, kernel=linear, score=0.675, total=  58.5s\n",
            "[CV] C=1000, gamma=1, kernel=linear ..................................\n",
            "[CV] ...... C=1000, gamma=1, kernel=linear, score=0.675, total= 1.0min\n",
            "[CV] C=1000, gamma=1, kernel=linear ..................................\n",
            "[CV] ...... C=1000, gamma=1, kernel=linear, score=0.683, total= 1.0min\n",
            "[CV] C=1000, gamma=1, kernel=linear ..................................\n",
            "[CV] ...... C=1000, gamma=1, kernel=linear, score=0.669, total=  43.6s\n",
            "[CV] C=1000, gamma=1, kernel=linear ..................................\n",
            "[CV] ...... C=1000, gamma=1, kernel=linear, score=0.711, total=  59.9s\n",
            "[CV] C=1000, gamma=1, kernel=rbf .....................................\n",
            "[CV] ......... C=1000, gamma=1, kernel=rbf, score=0.571, total=   0.2s\n",
            "[CV] C=1000, gamma=1, kernel=rbf .....................................\n",
            "[CV] ......... C=1000, gamma=1, kernel=rbf, score=0.580, total=   0.2s\n",
            "[CV] C=1000, gamma=1, kernel=rbf .....................................\n",
            "[CV] ......... C=1000, gamma=1, kernel=rbf, score=0.588, total=   0.2s\n",
            "[CV] C=1000, gamma=1, kernel=rbf .....................................\n",
            "[CV] ......... C=1000, gamma=1, kernel=rbf, score=0.583, total=   0.2s\n",
            "[CV] C=1000, gamma=1, kernel=rbf .....................................\n",
            "[CV] ......... C=1000, gamma=1, kernel=rbf, score=0.593, total=   0.2s\n",
            "[CV] C=1000, gamma=1, kernel=sigmoid .................................\n",
            "[CV] ..... C=1000, gamma=1, kernel=sigmoid, score=0.574, total=   0.1s\n",
            "[CV] C=1000, gamma=1, kernel=sigmoid .................................\n",
            "[CV] ..... C=1000, gamma=1, kernel=sigmoid, score=0.555, total=   0.1s\n",
            "[CV] C=1000, gamma=1, kernel=sigmoid .................................\n",
            "[CV] ..... C=1000, gamma=1, kernel=sigmoid, score=0.557, total=   0.1s\n",
            "[CV] C=1000, gamma=1, kernel=sigmoid .................................\n",
            "[CV] ..... C=1000, gamma=1, kernel=sigmoid, score=0.599, total=   0.1s\n",
            "[CV] C=1000, gamma=1, kernel=sigmoid .................................\n",
            "[CV] ..... C=1000, gamma=1, kernel=sigmoid, score=0.567, total=   0.1s\n",
            "[CV] C=1000, gamma=0.1, kernel=linear ................................\n",
            "[CV] .... C=1000, gamma=0.1, kernel=linear, score=0.675, total=  58.5s\n",
            "[CV] C=1000, gamma=0.1, kernel=linear ................................\n",
            "[CV] .... C=1000, gamma=0.1, kernel=linear, score=0.675, total= 1.0min\n",
            "[CV] C=1000, gamma=0.1, kernel=linear ................................\n",
            "[CV] .... C=1000, gamma=0.1, kernel=linear, score=0.683, total= 1.0min\n",
            "[CV] C=1000, gamma=0.1, kernel=linear ................................\n",
            "[CV] .... C=1000, gamma=0.1, kernel=linear, score=0.669, total=  43.6s\n",
            "[CV] C=1000, gamma=0.1, kernel=linear ................................\n",
            "[CV] .... C=1000, gamma=0.1, kernel=linear, score=0.711, total= 1.0min\n",
            "[CV] C=1000, gamma=0.1, kernel=rbf ...................................\n",
            "[CV] ....... C=1000, gamma=0.1, kernel=rbf, score=0.672, total=   0.2s\n",
            "[CV] C=1000, gamma=0.1, kernel=rbf ...................................\n",
            "[CV] ....... C=1000, gamma=0.1, kernel=rbf, score=0.639, total=   0.2s\n",
            "[CV] C=1000, gamma=0.1, kernel=rbf ...................................\n",
            "[CV] ....... C=1000, gamma=0.1, kernel=rbf, score=0.639, total=   0.2s\n",
            "[CV] C=1000, gamma=0.1, kernel=rbf ...................................\n",
            "[CV] ....... C=1000, gamma=0.1, kernel=rbf, score=0.636, total=   0.2s\n",
            "[CV] C=1000, gamma=0.1, kernel=rbf ...................................\n",
            "[CV] ....... C=1000, gamma=0.1, kernel=rbf, score=0.674, total=   0.2s\n",
            "[CV] C=1000, gamma=0.1, kernel=sigmoid ...............................\n",
            "[CV] ... C=1000, gamma=0.1, kernel=sigmoid, score=0.630, total=   0.1s\n",
            "[CV] C=1000, gamma=0.1, kernel=sigmoid ...............................\n",
            "[CV] ... C=1000, gamma=0.1, kernel=sigmoid, score=0.574, total=   0.1s\n",
            "[CV] C=1000, gamma=0.1, kernel=sigmoid ...............................\n",
            "[CV] ... C=1000, gamma=0.1, kernel=sigmoid, score=0.580, total=   0.1s\n",
            "[CV] C=1000, gamma=0.1, kernel=sigmoid ...............................\n",
            "[CV] ... C=1000, gamma=0.1, kernel=sigmoid, score=0.619, total=   0.1s\n",
            "[CV] C=1000, gamma=0.1, kernel=sigmoid ...............................\n",
            "[CV] ... C=1000, gamma=0.1, kernel=sigmoid, score=0.587, total=   0.1s\n",
            "[CV] C=1000, gamma=0.01, kernel=linear ...............................\n",
            "[CV] ... C=1000, gamma=0.01, kernel=linear, score=0.675, total=  58.6s\n",
            "[CV] C=1000, gamma=0.01, kernel=linear ...............................\n",
            "[CV] ... C=1000, gamma=0.01, kernel=linear, score=0.675, total= 1.0min\n",
            "[CV] C=1000, gamma=0.01, kernel=linear ...............................\n",
            "[CV] ... C=1000, gamma=0.01, kernel=linear, score=0.683, total= 1.0min\n",
            "[CV] C=1000, gamma=0.01, kernel=linear ...............................\n",
            "[CV] ... C=1000, gamma=0.01, kernel=linear, score=0.669, total=  43.6s\n",
            "[CV] C=1000, gamma=0.01, kernel=linear ...............................\n",
            "[CV] ... C=1000, gamma=0.01, kernel=linear, score=0.711, total=  60.0s\n",
            "[CV] C=1000, gamma=0.01, kernel=rbf ..................................\n",
            "[CV] ...... C=1000, gamma=0.01, kernel=rbf, score=0.630, total=   1.1s\n",
            "[CV] C=1000, gamma=0.01, kernel=rbf ..................................\n",
            "[CV] ...... C=1000, gamma=0.01, kernel=rbf, score=0.611, total=   1.1s\n",
            "[CV] C=1000, gamma=0.01, kernel=rbf ..................................\n",
            "[CV] ...... C=1000, gamma=0.01, kernel=rbf, score=0.585, total=   1.0s\n",
            "[CV] C=1000, gamma=0.01, kernel=rbf ..................................\n",
            "[CV] ...... C=1000, gamma=0.01, kernel=rbf, score=0.616, total=   1.1s\n",
            "[CV] C=1000, gamma=0.01, kernel=rbf ..................................\n",
            "[CV] ...... C=1000, gamma=0.01, kernel=rbf, score=0.654, total=   1.1s\n",
            "[CV] C=1000, gamma=0.01, kernel=sigmoid ..............................\n",
            "[CV] .. C=1000, gamma=0.01, kernel=sigmoid, score=0.658, total=   0.1s\n",
            "[CV] C=1000, gamma=0.01, kernel=sigmoid ..............................\n",
            "[CV] .. C=1000, gamma=0.01, kernel=sigmoid, score=0.588, total=   0.1s\n",
            "[CV] C=1000, gamma=0.01, kernel=sigmoid ..............................\n",
            "[CV] .. C=1000, gamma=0.01, kernel=sigmoid, score=0.597, total=   0.1s\n",
            "[CV] C=1000, gamma=0.01, kernel=sigmoid ..............................\n",
            "[CV] .. C=1000, gamma=0.01, kernel=sigmoid, score=0.619, total=   0.1s\n",
            "[CV] C=1000, gamma=0.01, kernel=sigmoid ..............................\n",
            "[CV] .. C=1000, gamma=0.01, kernel=sigmoid, score=0.604, total=   0.1s\n",
            "[CV] C=1000, gamma=0.001, kernel=linear ..............................\n",
            "[CV] .. C=1000, gamma=0.001, kernel=linear, score=0.675, total=  58.5s\n",
            "[CV] C=1000, gamma=0.001, kernel=linear ..............................\n",
            "[CV] .. C=1000, gamma=0.001, kernel=linear, score=0.675, total= 1.0min\n",
            "[CV] C=1000, gamma=0.001, kernel=linear ..............................\n",
            "[CV] .. C=1000, gamma=0.001, kernel=linear, score=0.683, total= 1.0min\n",
            "[CV] C=1000, gamma=0.001, kernel=linear ..............................\n",
            "[CV] .. C=1000, gamma=0.001, kernel=linear, score=0.669, total=  43.5s\n",
            "[CV] C=1000, gamma=0.001, kernel=linear ..............................\n",
            "[CV] .. C=1000, gamma=0.001, kernel=linear, score=0.711, total=  59.9s\n",
            "[CV] C=1000, gamma=0.001, kernel=rbf .................................\n",
            "[CV] ..... C=1000, gamma=0.001, kernel=rbf, score=0.720, total=   0.3s\n",
            "[CV] C=1000, gamma=0.001, kernel=rbf .................................\n",
            "[CV] ..... C=1000, gamma=0.001, kernel=rbf, score=0.692, total=   0.3s\n",
            "[CV] C=1000, gamma=0.001, kernel=rbf .................................\n",
            "[CV] ..... C=1000, gamma=0.001, kernel=rbf, score=0.658, total=   0.3s\n",
            "[CV] C=1000, gamma=0.001, kernel=rbf .................................\n",
            "[CV] ..... C=1000, gamma=0.001, kernel=rbf, score=0.667, total=   0.3s\n",
            "[CV] C=1000, gamma=0.001, kernel=rbf .................................\n",
            "[CV] ..... C=1000, gamma=0.001, kernel=rbf, score=0.691, total=   0.3s\n",
            "[CV] C=1000, gamma=0.001, kernel=sigmoid .............................\n",
            "[CV] . C=1000, gamma=0.001, kernel=sigmoid, score=0.675, total=   0.2s\n",
            "[CV] C=1000, gamma=0.001, kernel=sigmoid .............................\n",
            "[CV] . C=1000, gamma=0.001, kernel=sigmoid, score=0.667, total=   0.2s\n",
            "[CV] C=1000, gamma=0.001, kernel=sigmoid .............................\n",
            "[CV] . C=1000, gamma=0.001, kernel=sigmoid, score=0.686, total=   0.2s\n",
            "[CV] C=1000, gamma=0.001, kernel=sigmoid .............................\n",
            "[CV] . C=1000, gamma=0.001, kernel=sigmoid, score=0.667, total=   0.2s\n",
            "[CV] C=1000, gamma=0.001, kernel=sigmoid .............................\n",
            "[CV] . C=1000, gamma=0.001, kernel=sigmoid, score=0.699, total=   0.2s\n",
            "[CV] C=1000, gamma=0.0001, kernel=linear .............................\n",
            "[CV] . C=1000, gamma=0.0001, kernel=linear, score=0.675, total=  58.4s\n",
            "[CV] C=1000, gamma=0.0001, kernel=linear .............................\n",
            "[CV] . C=1000, gamma=0.0001, kernel=linear, score=0.675, total= 1.0min\n",
            "[CV] C=1000, gamma=0.0001, kernel=linear .............................\n",
            "[CV] . C=1000, gamma=0.0001, kernel=linear, score=0.683, total= 1.0min\n",
            "[CV] C=1000, gamma=0.0001, kernel=linear .............................\n",
            "[CV] . C=1000, gamma=0.0001, kernel=linear, score=0.669, total=  43.5s\n",
            "[CV] C=1000, gamma=0.0001, kernel=linear .............................\n",
            "[CV] . C=1000, gamma=0.0001, kernel=linear, score=0.711, total=  59.9s\n",
            "[CV] C=1000, gamma=0.0001, kernel=rbf ................................\n",
            "[CV] .... C=1000, gamma=0.0001, kernel=rbf, score=0.686, total=   0.1s\n",
            "[CV] C=1000, gamma=0.0001, kernel=rbf ................................\n",
            "[CV] .... C=1000, gamma=0.0001, kernel=rbf, score=0.669, total=   0.2s\n",
            "[CV] C=1000, gamma=0.0001, kernel=rbf ................................\n",
            "[CV] .... C=1000, gamma=0.0001, kernel=rbf, score=0.692, total=   0.1s\n",
            "[CV] C=1000, gamma=0.0001, kernel=rbf ................................\n",
            "[CV] .... C=1000, gamma=0.0001, kernel=rbf, score=0.678, total=   0.2s\n",
            "[CV] C=1000, gamma=0.0001, kernel=rbf ................................\n",
            "[CV] .... C=1000, gamma=0.0001, kernel=rbf, score=0.713, total=   0.2s\n",
            "[CV] C=1000, gamma=0.0001, kernel=sigmoid ............................\n",
            "[CV]  C=1000, gamma=0.0001, kernel=sigmoid, score=0.672, total=   0.1s\n",
            "[CV] C=1000, gamma=0.0001, kernel=sigmoid ............................\n",
            "[CV]  C=1000, gamma=0.0001, kernel=sigmoid, score=0.672, total=   0.1s\n",
            "[CV] C=1000, gamma=0.0001, kernel=sigmoid ............................\n",
            "[CV]  C=1000, gamma=0.0001, kernel=sigmoid, score=0.686, total=   0.1s\n",
            "[CV] C=1000, gamma=0.0001, kernel=sigmoid ............................\n",
            "[CV]  C=1000, gamma=0.0001, kernel=sigmoid, score=0.678, total=   0.1s\n",
            "[CV] C=1000, gamma=0.0001, kernel=sigmoid ............................\n",
            "[CV]  C=1000, gamma=0.0001, kernel=sigmoid, score=0.708, total=   0.1s\n"
          ],
          "name": "stdout"
        },
        {
          "output_type": "stream",
          "text": [
            "[Parallel(n_jobs=1)]: Done 375 out of 375 | elapsed: 27.3min finished\n"
          ],
          "name": "stderr"
        },
        {
          "output_type": "execute_result",
          "data": {
            "text/plain": [
              "GridSearchCV(cv=None, error_score=nan,\n",
              "             estimator=SVC(C=1.0, break_ties=False, cache_size=200,\n",
              "                           class_weight=None, coef0=0.0,\n",
              "                           decision_function_shape='ovr', degree=3,\n",
              "                           gamma='scale', kernel='rbf', max_iter=-1,\n",
              "                           probability=False, random_state=None, shrinking=True,\n",
              "                           tol=0.001, verbose=False),\n",
              "             iid='deprecated', n_jobs=None,\n",
              "             param_grid={'C': [0.1, 1, 10, 100, 1000],\n",
              "                         'gamma': [1, 0.1, 0.01, 0.001, 0.0001],\n",
              "                         'kernel': ['linear', 'rbf', 'sigmoid']},\n",
              "             pre_dispatch='2*n_jobs', refit=True, return_train_score=False,\n",
              "             scoring=None, verbose=3)"
            ]
          },
          "metadata": {
            "tags": []
          },
          "execution_count": 149
        }
      ]
    },
    {
      "cell_type": "code",
      "metadata": {
        "colab": {
          "base_uri": "https://localhost:8080/"
        },
        "id": "4dYvTkiiK0i9",
        "outputId": "890f666b-d60d-4016-e279-84a8dee8dd36"
      },
      "source": [
        "# print best parameter after tuning \n",
        "print(grid.best_params_) "
      ],
      "execution_count": null,
      "outputs": [
        {
          "output_type": "stream",
          "text": [
            "{'C': 1, 'gamma': 0.1, 'kernel': 'rbf'}\n"
          ],
          "name": "stdout"
        }
      ]
    },
    {
      "cell_type": "code",
      "metadata": {
        "colab": {
          "base_uri": "https://localhost:8080/"
        },
        "id": "Ibhb_3viK1YB",
        "outputId": "a7379866-9d4d-42fe-c781-0f361e742413"
      },
      "source": [
        "# print how our model looks after hyper-parameter tuning \n",
        "print(grid.best_estimator_) "
      ],
      "execution_count": null,
      "outputs": [
        {
          "output_type": "stream",
          "text": [
            "SVC(C=1, break_ties=False, cache_size=200, class_weight=None, coef0=0.0,\n",
            "    decision_function_shape='ovr', degree=3, gamma=0.1, kernel='rbf',\n",
            "    max_iter=-1, probability=False, random_state=None, shrinking=True,\n",
            "    tol=0.001, verbose=False)\n"
          ],
          "name": "stdout"
        }
      ]
    },
    {
      "cell_type": "markdown",
      "metadata": {
        "id": "bq2GFYc3J0-B"
      },
      "source": [
        "### Gradient Boosting Classifier"
      ]
    },
    {
      "cell_type": "code",
      "metadata": {
        "colab": {
          "base_uri": "https://localhost:8080/",
          "height": 278
        },
        "id": "2pOb_tWZJ7SM",
        "outputId": "fdb9b16f-19a7-4f06-a3bf-a305d55550ad"
      },
      "source": [
        "learning_rates = [0.5,0.2,0.15,0.1, 0.05,0.01,0.001, 0.0001]\n",
        "train_results = []\n",
        "test_results = []\n",
        "for eta in learning_rates:\n",
        "   model = GradientBoostingClassifier(learning_rate=eta)\n",
        "   model.fit(X_train, y_train)\n",
        "   train_pred = model.predict(X_train)\n",
        "   false_positive_rate, true_positive_rate, thresholds = roc_curve(y_train, train_pred)\n",
        "   roc_auc = auc(false_positive_rate, true_positive_rate)\n",
        "   train_results.append(roc_auc)\n",
        "   y_pred = model.predict(X_test)\n",
        "   false_positive_rate, true_positive_rate, thresholds = roc_curve(y_test, y_pred)\n",
        "   roc_auc = auc(false_positive_rate, true_positive_rate)\n",
        "   test_results.append(roc_auc)\n",
        "\n",
        "line1, = plt.plot(learning_rates, train_results, 'b', label='Train AUC')\n",
        "line2, = plt.plot(learning_rates, test_results, 'r', label='Test AUC')\n",
        "plt.legend(handler_map={line1: HandlerLine2D(numpoints=2)})\n",
        "plt.ylabel('AUC score')\n",
        "plt.xlabel('learning rate')\n",
        "plt.show()"
      ],
      "execution_count": null,
      "outputs": [
        {
          "output_type": "display_data",
          "data": {
            "image/png": "[encoded data removed]",
            "text/plain": [
              "<Figure size 432x288 with 1 Axes>"
            ]
          },
          "metadata": {
            "tags": [],
            "needs_background": "light"
          }
        }
      ]
    },
    {
      "cell_type": "code",
      "metadata": {
        "colab": {
          "base_uri": "https://localhost:8080/"
        },
        "id": "cuuxlIyNNRXj",
        "outputId": "0a2a9969-7726-437e-e889-b50a5f8d0245"
      },
      "source": [
        "lr=learning_rates[np.argmax(test_results)]\n",
        "print(\"best learning rate is: \",lr)"
      ],
      "execution_count": null,
      "outputs": [
        {
          "output_type": "stream",
          "text": [
            "best learning rate is:  0.01\n"
          ],
          "name": "stdout"
        }
      ]
    },
    {
      "cell_type": "code",
      "metadata": {
        "colab": {
          "base_uri": "https://localhost:8080/",
          "height": 278
        },
        "id": "iYbqPwq4OUT3",
        "outputId": "692318e9-459e-4ed3-d846-e839be9ecbc2"
      },
      "source": [
        "n_estimators = [1, 2, 4, 8, 16, 32, 64, 100, 200]\n",
        "train_results = []\n",
        "test_results = []\n",
        "for estimator in n_estimators:\n",
        "   model = GradientBoostingClassifier(n_estimators=estimator)\n",
        "   model.fit(X_train, y_train)\n",
        "   train_pred = model.predict(X_train)\n",
        "   false_positive_rate, true_positive_rate, thresholds = roc_curve(y_train, train_pred)\n",
        "   roc_auc = auc(false_positive_rate, true_positive_rate)\n",
        "   train_results.append(roc_auc)\n",
        "   y_pred = model.predict(X_test)\n",
        "   false_positive_rate, true_positive_rate, thresholds = roc_curve(y_test, y_pred)\n",
        "   roc_auc = auc(false_positive_rate, true_positive_rate)\n",
        "   test_results.append(roc_auc)\n",
        "\n",
        "\n",
        "line1, = plt.plot(n_estimators, train_results, 'b', label='Train AUC')\n",
        "line2, = plt.plot(n_estimators, test_results, 'r', label='Test AUC')\n",
        "plt.legend(handler_map={line1: HandlerLine2D(numpoints=2)})\n",
        "plt.ylabel('AUC score')\n",
        "plt.xlabel('n_estimators')\n",
        "plt.show()"
      ],
      "execution_count": null,
      "outputs": [
        {
          "output_type": "display_data",
          "data": {
            "image/png": "[encoded data removed]",
            "text/plain": [
              "<Figure size 432x288 with 1 Axes>"
            ]
          },
          "metadata": {
            "tags": [],
            "needs_background": "light"
          }
        }
      ]
    },
    {
      "cell_type": "code",
      "metadata": {
        "colab": {
          "base_uri": "https://localhost:8080/"
        },
        "id": "Gk6YNbn8Oxrz",
        "outputId": "567763cb-57ee-49ce-9f49-5b624079e61c"
      },
      "source": [
        "n_estimators=n_estimators[np.argmax(test_results)]\n",
        "print(\"best n_estimators is: \",n_estimators)"
      ],
      "execution_count": null,
      "outputs": [
        {
          "output_type": "stream",
          "text": [
            "best n_estimators is:  16\n"
          ],
          "name": "stdout"
        }
      ]
    },
    {
      "cell_type": "code",
      "metadata": {
        "colab": {
          "base_uri": "https://localhost:8080/",
          "height": 278
        },
        "id": "58JhWikhO61S",
        "outputId": "e02884f4-2f06-4f6e-cb46-0b5e6b696c75"
      },
      "source": [
        "max_depths = np.linspace(1, 32, 32, endpoint=True)\n",
        "train_results = []\n",
        "test_results = []\n",
        "for max_depth in max_depths:\n",
        "   model = GradientBoostingClassifier(max_depth=max_depth)\n",
        "   model.fit(X_train, y_train)\n",
        "   train_pred = model.predict(X_train)\n",
        "   false_positive_rate, true_positive_rate, thresholds = roc_curve(y_train, train_pred)\n",
        "   roc_auc = auc(false_positive_rate, true_positive_rate)\n",
        "   train_results.append(roc_auc)\n",
        "   y_pred = model.predict(X_test)\n",
        "   false_positive_rate, true_positive_rate, thresholds = roc_curve(y_test, y_pred)\n",
        "   roc_auc = auc(false_positive_rate, true_positive_rate)\n",
        "   test_results.append(roc_auc)\n",
        "\n",
        "\n",
        "line1, = plt.plot(max_depths, train_results, 'b', label='Train AUC')\n",
        "line2, = plt.plot(max_depths, test_results, 'r', label='Test AUC')\n",
        "plt.legend(handler_map={line1: HandlerLine2D(numpoints=2)})\n",
        "plt.ylabel('AUC score')\n",
        "plt.xlabel('tree depth')\n",
        "plt.show()"
      ],
      "execution_count": null,
      "outputs": [
        {
          "output_type": "display_data",
          "data": {
            "image/png": "[encoded data removed]",
            "text/plain": [
              "<Figure size 432x288 with 1 Axes>"
            ]
          },
          "metadata": {
            "tags": [],
            "needs_background": "light"
          }
        }
      ]
    },
    {
      "cell_type": "code",
      "metadata": {
        "colab": {
          "base_uri": "https://localhost:8080/"
        },
        "id": "3z0XmkVUPjsF",
        "outputId": "8e6dd7ab-3035-49e4-8f66-70ba8adf7737"
      },
      "source": [
        "max_depths=max_depths[np.argmax(test_results)]\n",
        "print(\"best tree depth is: \",max_depths)"
      ],
      "execution_count": null,
      "outputs": [
        {
          "output_type": "stream",
          "text": [
            "best tree depth is:  1.0\n"
          ],
          "name": "stdout"
        }
      ]
    },
    {
      "cell_type": "code",
      "metadata": {
        "colab": {
          "base_uri": "https://localhost:8080/",
          "height": 278
        },
        "id": "dNZv7jhuP4vz",
        "outputId": "dc2e9d23-6b9a-4658-fe35-c2e7f26a09cf"
      },
      "source": [
        "max_features = list(range(1,X_train.shape[1]))\n",
        "train_results = []\n",
        "test_results = []\n",
        "for max_feature in max_features:\n",
        "   model = GradientBoostingClassifier(max_features=max_feature)\n",
        "   model.fit(X_train, y_train)\n",
        "   train_pred = model.predict(X_train)\n",
        "   false_positive_rate, true_positive_rate, thresholds = roc_curve(y_train, train_pred)\n",
        "   roc_auc = auc(false_positive_rate, true_positive_rate)\n",
        "   train_results.append(roc_auc)\n",
        "   y_pred = model.predict(X_test)\n",
        "   false_positive_rate, true_positive_rate, thresholds = roc_curve(y_test, y_pred)\n",
        "   roc_auc = auc(false_positive_rate, true_positive_rate)\n",
        "   test_results.append(roc_auc)\n",
        " \n",
        " \n",
        "line1, = plt.plot(max_features, train_results, 'b', label='Train AUC')\n",
        "line2, = plt.plot(max_features, test_results, 'r', label='Test AUC')\n",
        "plt.legend(handler_map={line1: HandlerLine2D(numpoints=2)})\n",
        "plt.ylabel('AUC score')\n",
        "plt.xlabel('max features')\n",
        "plt.show()"
      ],
      "execution_count": null,
      "outputs": [
        {
          "output_type": "display_data",
          "data": {
            "image/png": "[encoded data removed]",
            "text/plain": [
              "<Figure size 432x288 with 1 Axes>"
            ]
          },
          "metadata": {
            "tags": [],
            "needs_background": "light"
          }
        }
      ]
    },
    {
      "cell_type": "code",
      "metadata": {
        "colab": {
          "base_uri": "https://localhost:8080/"
        },
        "id": "2SKjUrbeQpNe",
        "outputId": "c3435257-68b0-4fb5-d95f-3a45adfd7e1f"
      },
      "source": [
        "max_features=max_features[np.argmax(test_results)]\n",
        "print(\"best max features is: \",max_features)"
      ],
      "execution_count": null,
      "outputs": [
        {
          "output_type": "stream",
          "text": [
            "best max features is:  7\n"
          ],
          "name": "stdout"
        }
      ]
    },
    {
      "cell_type": "code",
      "metadata": {
        "colab": {
          "base_uri": "https://localhost:8080/"
        },
        "id": "_7f_UssAQxpN",
        "outputId": "1d48940a-5860-424b-e8fb-bc11b1ad1d65"
      },
      "source": [
        "gbc = GradientBoostingClassifier(max_features=max_features,learning_rate=lr)\n",
        "gbc.fit(X_train, y_train)"
      ],
      "execution_count": null,
      "outputs": [
        {
          "output_type": "execute_result",
          "data": {
            "text/plain": [
              "GradientBoostingClassifier(ccp_alpha=0.0, criterion='friedman_mse', init=None,\n",
              "                           learning_rate=0.01, loss='deviance', max_depth=3,\n",
              "                           max_features=7, max_leaf_nodes=None,\n",
              "                           min_impurity_decrease=0.0, min_impurity_split=None,\n",
              "                           min_samples_leaf=1, min_samples_split=2,\n",
              "                           min_weight_fraction_leaf=0.0, n_estimators=100,\n",
              "                           n_iter_no_change=None, presort='deprecated',\n",
              "                           random_state=None, subsample=1.0, tol=0.0001,\n",
              "                           validation_fraction=0.1, verbose=0,\n",
              "                           warm_start=False)"
            ]
          },
          "metadata": {
            "tags": []
          },
          "execution_count": 49
        }
      ]
    },
    {
      "cell_type": "markdown",
      "metadata": {
        "id": "9Ja5SS4P7wDv"
      },
      "source": [
        "# Evaluation metrics"
      ]
    },
    {
      "cell_type": "code",
      "metadata": {
        "id": "4f2PaWjARgBF",
        "colab": {
          "base_uri": "https://localhost:8080/"
        },
        "outputId": "6762b968-c849-466a-f131-971e55e14693"
      },
      "source": [
        "print(\"logistic regression accuracy: \", model.score(X_test, y_test))\n",
        "print(\"Decision Tree Classifier accuracy: \",clf.score(X_test, y_test))\n",
        "print(\"Random Forest Classifier accuracy: \",clf_rf.score(X_test, y_test))\n",
        "print(\"NAive Bayes Classifier accuracy: \",nbc.score(X_test, y_test))\n",
        "print(\"Knn Classifier accuracy: \",clf_knn.score(X_test, y_test))\n",
        "print(\"SVM Classifier accuracy: \",grid.score(X_test, y_test))"
      ],
      "execution_count": null,
      "outputs": [
        {
          "output_type": "stream",
          "text": [
            "logistic regression accuracy:  0.7056650246305419\n",
            "Decision Tree Classifier accuracy:  0.6736453201970444\n",
            "Random Forest Classifier accuracy:  0.6798029556650246\n",
            "NAive Bayes Classifier accuracy:  0.6637931034482759\n",
            "Knn Classifier accuracy:  0.6477832512315271\n",
            "SVM Classifier accuracy:  0.6761083743842364\n"
          ],
          "name": "stdout"
        }
      ]
    },
    {
      "cell_type": "code",
      "metadata": {
        "colab": {
          "base_uri": "https://localhost:8080/"
        },
        "id": "0L4y1AudR6Ai",
        "outputId": "b336305d-059c-4ef5-e279-703f52ff12c1"
      },
      "source": [
        "print(\"Gradient boosting Classifier accuracy: \",gbc.score(X_test, y_test))"
      ],
      "execution_count": null,
      "outputs": [
        {
          "output_type": "stream",
          "text": [
            "Gradient boosting Classifier accuracy:  0.6834975369458128\n"
          ],
          "name": "stdout"
        }
      ]
    },
    {
      "cell_type": "markdown",
      "metadata": {
        "id": "72FoBJXXCJpW"
      },
      "source": [
        "# classification reports"
      ]
    },
    {
      "cell_type": "code",
      "metadata": {
        "id": "pVUyGhEl-auj"
      },
      "source": [
        "target_names = ['no re-admission', 're-admission']\n",
        "\n",
        "y_model= model.predict(X_test)\n",
        "y_clf= clf.predict(X_test)\n",
        "y_clf_rf= clf_rf.predict(X_test)\n",
        "y_nbc= nbc.predict(X_test)\n",
        "y_clf_knn=clf_knn.predict(X_test)\n",
        "y_svm=grid.predict(X_test)\n",
        "y_gbc=gbc.predict(X_test)\n"
      ],
      "execution_count": null,
      "outputs": []
    },
    {
      "cell_type": "code",
      "metadata": {
        "colab": {
          "base_uri": "https://localhost:8080/"
        },
        "id": "upiUWX_P_Szb",
        "outputId": "9a359a96-f710-4628-ae4c-725a3d7e3165"
      },
      "source": [
        "print(\"Logistic Regression Classification Report: \\n\"+ classification_report(y_test, y_model, target_names=target_names))\n",
        "print(\"Model's MSE score: \"+ str(mean_squared_error(y_test, y_model)))"
      ],
      "execution_count": null,
      "outputs": [
        {
          "output_type": "stream",
          "text": [
            "Logistic Regression Classification Report: \n",
            "                 precision    recall  f1-score   support\n",
            "\n",
            "no re-admission       0.68      0.68      0.68       371\n",
            "   re-admission       0.73      0.73      0.73       441\n",
            "\n",
            "       accuracy                           0.71       812\n",
            "      macro avg       0.70      0.70      0.70       812\n",
            "   weighted avg       0.71      0.71      0.71       812\n",
            "\n",
            "Model's MSE score: 0.29433497536945813\n"
          ],
          "name": "stdout"
        }
      ]
    },
    {
      "cell_type": "code",
      "metadata": {
        "colab": {
          "base_uri": "https://localhost:8080/"
        },
        "id": "8WEVBPVuDiNm",
        "outputId": "13fa627e-a546-4454-e5ba-9b5d9e996b26"
      },
      "source": [
        "print(\"Decision Tree Classifier Classification Report: \\n\"+ classification_report(y_test, y_clf, target_names=target_names))\n",
        "print(\"Model's MSE score: \"+ str(mean_squared_error(y_test, y_clf)))"
      ],
      "execution_count": null,
      "outputs": [
        {
          "output_type": "stream",
          "text": [
            "Decision Tree Classifier Classification Report: \n",
            "                 precision    recall  f1-score   support\n",
            "\n",
            "no re-admission       0.63      0.69      0.66       371\n",
            "   re-admission       0.72      0.66      0.69       441\n",
            "\n",
            "       accuracy                           0.67       812\n",
            "      macro avg       0.67      0.67      0.67       812\n",
            "   weighted avg       0.68      0.67      0.67       812\n",
            "\n",
            "Model's MSE score: 0.3263546798029557\n"
          ],
          "name": "stdout"
        }
      ]
    },
    {
      "cell_type": "code",
      "metadata": {
        "colab": {
          "base_uri": "https://localhost:8080/"
        },
        "id": "BFWgyMaZDnpW",
        "outputId": "e667a73f-c892-4dc9-d015-4fb14a59e004"
      },
      "source": [
        "print(\"Random Forest Classifier Classification Report: \\n\"+ classification_report(y_test, y_clf_rf, target_names=target_names))\n",
        "print(\"Model's MSE score: \"+ str(mean_squared_error(y_test, y_clf_rf)))"
      ],
      "execution_count": null,
      "outputs": [
        {
          "output_type": "stream",
          "text": [
            "Random Forest Classifier Classification Report: \n",
            "                 precision    recall  f1-score   support\n",
            "\n",
            "no re-admission       0.67      0.59      0.63       371\n",
            "   re-admission       0.69      0.75      0.72       441\n",
            "\n",
            "       accuracy                           0.68       812\n",
            "      macro avg       0.68      0.67      0.67       812\n",
            "   weighted avg       0.68      0.68      0.68       812\n",
            "\n",
            "Model's MSE score: 0.32142857142857145\n"
          ],
          "name": "stdout"
        }
      ]
    },
    {
      "cell_type": "code",
      "metadata": {
        "colab": {
          "base_uri": "https://localhost:8080/"
        },
        "id": "_07joH0fDnyR",
        "outputId": "a61df3e5-8ab2-449b-e26d-6109a6958584"
      },
      "source": [
        "print(\"Knn Classifier Classification Report: \\n\"+ classification_report(y_test, y_clf_knn, target_names=target_names))\n",
        "print(\"Model's MSE score: \"+ str(mean_squared_error(y_test, y_clf_knn)))"
      ],
      "execution_count": null,
      "outputs": [
        {
          "output_type": "stream",
          "text": [
            "Knn Classifier Classification Report: \n",
            "                 precision    recall  f1-score   support\n",
            "\n",
            "no re-admission       0.60      0.70      0.65       371\n",
            "   re-admission       0.71      0.60      0.65       441\n",
            "\n",
            "       accuracy                           0.65       812\n",
            "      macro avg       0.65      0.65      0.65       812\n",
            "   weighted avg       0.66      0.65      0.65       812\n",
            "\n",
            "Model's MSE score: 0.3522167487684729\n"
          ],
          "name": "stdout"
        }
      ]
    },
    {
      "cell_type": "code",
      "metadata": {
        "colab": {
          "base_uri": "https://localhost:8080/"
        },
        "id": "ItzZmnam0Shz",
        "outputId": "7308865c-61e4-40e5-da62-48885a690279"
      },
      "source": [
        "print(\"NAive Bayes Classifier Classification Report: \\n\"+ classification_report(y_test, y_nbc, target_names=target_names))\n",
        "print(\"Model's MSE score: \"+ str(mean_squared_error(y_test, y_nbc)))"
      ],
      "execution_count": null,
      "outputs": [
        {
          "output_type": "stream",
          "text": [
            "NAive Bayes Classifier Classification Report: \n",
            "                 precision    recall  f1-score   support\n",
            "\n",
            "no re-admission       0.62      0.68      0.65       371\n",
            "   re-admission       0.71      0.65      0.68       441\n",
            "\n",
            "       accuracy                           0.66       812\n",
            "      macro avg       0.66      0.66      0.66       812\n",
            "   weighted avg       0.67      0.66      0.66       812\n",
            "\n",
            "Model's MSE score: 0.33620689655172414\n"
          ],
          "name": "stdout"
        }
      ]
    },
    {
      "cell_type": "code",
      "metadata": {
        "colab": {
          "base_uri": "https://localhost:8080/"
        },
        "id": "ietL0CSuXu8i",
        "outputId": "84210eae-2ef0-470e-b5bb-5cb1b72d44ff"
      },
      "source": [
        "print(\"SVM Classifier Classification Report: \\n\"+ classification_report(y_test, y_svm, target_names=target_names))\n",
        "print(\"SVM's MSE score: \"+ str(mean_squared_error(y_test, y_svm)))"
      ],
      "execution_count": null,
      "outputs": [
        {
          "output_type": "stream",
          "text": [
            "SVM Classifier Classification Report: \n",
            "                 precision    recall  f1-score   support\n",
            "\n",
            "no re-admission       0.66      0.59      0.63       371\n",
            "   re-admission       0.69      0.75      0.71       441\n",
            "\n",
            "       accuracy                           0.68       812\n",
            "      macro avg       0.67      0.67      0.67       812\n",
            "   weighted avg       0.68      0.68      0.67       812\n",
            "\n",
            "SVM's MSE score: 0.32389162561576357\n"
          ],
          "name": "stdout"
        }
      ]
    },
    {
      "cell_type": "code",
      "metadata": {
        "colab": {
          "base_uri": "https://localhost:8080/"
        },
        "id": "E6g1uRTGSUmV",
        "outputId": "6ed5d5ad-07a9-448a-ca08-65f14e978b7b"
      },
      "source": [
        "print(\"gradient boosting Classifier Classification Report: \\n\"+ classification_report(y_test, y_gbc, target_names=target_names))\n",
        "print(\"GBC's MSE score: \"+ str(mean_squared_error(y_test, y_gbc)))"
      ],
      "execution_count": null,
      "outputs": [
        {
          "output_type": "stream",
          "text": [
            "gradient boosting Classifier Classification Report: \n",
            "                 precision    recall  f1-score   support\n",
            "\n",
            "no re-admission       0.67      0.60      0.63       371\n",
            "   re-admission       0.69      0.76      0.72       441\n",
            "\n",
            "       accuracy                           0.68       812\n",
            "      macro avg       0.68      0.68      0.68       812\n",
            "   weighted avg       0.68      0.68      0.68       812\n",
            "\n",
            "GBC's MSE score: 0.31650246305418717\n"
          ],
          "name": "stdout"
        }
      ]
    },
    {
      "cell_type": "markdown",
      "metadata": {
        "id": "esTJ25aAEAPh"
      },
      "source": [
        "# Confusion Matrices"
      ]
    },
    {
      "cell_type": "code",
      "metadata": {
        "colab": {
          "base_uri": "https://localhost:8080/",
          "height": 278
        },
        "id": "KE9aE6hVEJFe",
        "outputId": "7c6b2fff-b160-4ee3-cdb6-f38bbdc8b5f5"
      },
      "source": [
        "viz = ConfusionMatrix(LogisticRegression(solver='lbfgs'))\n",
        "viz.fit(X_train, y_train)\n",
        "print(\"Logistic Regression: \", viz.score(X_test, y_test))"
      ],
      "execution_count": null,
      "outputs": [
        {
          "output_type": "stream",
          "text": [
            "Logistic Regression:  0.7056650246305419\n"
          ],
          "name": "stdout"
        },
        {
          "output_type": "display_data",
          "data": {
            "image/png": "[encoded data removed]",
            "text/plain": [
              "<Figure size 432x288 with 1 Axes>"
            ]
          },
          "metadata": {
            "tags": [],
            "needs_background": "light"
          }
        }
      ]
    },
    {
      "cell_type": "code",
      "metadata": {
        "colab": {
          "base_uri": "https://localhost:8080/",
          "height": 278
        },
        "id": "Ak-e07gJEwtz",
        "outputId": "787e54ae-6b9d-4d7c-ec3b-523fc5bab74b"
      },
      "source": [
        "viz = ConfusionMatrix(DecisionTreeClassifier(random_state=0, max_depth=d))\n",
        "viz.fit(X_train, y_train)\n",
        "print(\"Decision Tree Classifier: \", viz.score(X_test, y_test))"
      ],
      "execution_count": null,
      "outputs": [
        {
          "output_type": "stream",
          "text": [
            "Decision Tree Classifier:  0.6736453201970444\n"
          ],
          "name": "stdout"
        },
        {
          "output_type": "display_data",
          "data": {
            "image/png": "[encoded data removed]",
            "text/plain": [
              "<Figure size 432x288 with 1 Axes>"
            ]
          },
          "metadata": {
            "tags": [],
            "needs_background": "light"
          }
        }
      ]
    },
    {
      "cell_type": "code",
      "metadata": {
        "colab": {
          "base_uri": "https://localhost:8080/",
          "height": 278
        },
        "id": "LASXpCRHExgL",
        "outputId": "acc32f89-a8ee-4f88-fe8d-8ddd2c6b2943"
      },
      "source": [
        "viz = ConfusionMatrix(RandomForestClassifier(n_estimators=t))\n",
        "viz.fit(X_train, y_train)\n",
        "print(\"Random Forest Classifier: \", viz.score(X_test, y_test))"
      ],
      "execution_count": null,
      "outputs": [
        {
          "output_type": "stream",
          "text": [
            "Random Forest Classifier:  0.6798029556650246\n"
          ],
          "name": "stdout"
        },
        {
          "output_type": "display_data",
          "data": {
            "image/png": "[encoded data removed]",
            "text/plain": [
              "<Figure size 432x288 with 1 Axes>"
            ]
          },
          "metadata": {
            "tags": [],
            "needs_background": "light"
          }
        }
      ]
    },
    {
      "cell_type": "code",
      "metadata": {
        "colab": {
          "base_uri": "https://localhost:8080/",
          "height": 278
        },
        "id": "0dEcyd1cEyWd",
        "outputId": "cbe92206-0d2f-48f6-ba0f-251ea9c71567"
      },
      "source": [
        "viz = ConfusionMatrix(BernoulliNB())\n",
        "viz.fit(X_train, y_train)\n",
        "print(\"NAive Bayes Classifier: \", viz.score(X_test, y_test))"
      ],
      "execution_count": null,
      "outputs": [
        {
          "output_type": "stream",
          "text": [
            "NAive Bayes Classifier:  0.6637931034482759\n"
          ],
          "name": "stdout"
        },
        {
          "output_type": "display_data",
          "data": {
            "image/png": "[encoded data removed]",
            "text/plain": [
              "<Figure size 432x288 with 1 Axes>"
            ]
          },
          "metadata": {
            "tags": [],
            "needs_background": "light"
          }
        }
      ]
    },
    {
      "cell_type": "code",
      "metadata": {
        "colab": {
          "base_uri": "https://localhost:8080/",
          "height": 278
        },
        "id": "9lNLu5j_0hPG",
        "outputId": "68652455-8d21-4533-fb1a-128f93527cb4"
      },
      "source": [
        "viz = ConfusionMatrix(KNeighborsClassifier(n_neighbors = 7,p=1))\n",
        "viz.fit(X_train, y_train)\n",
        "print(\"Knn Classifier: \", viz.score(X_test, y_test))"
      ],
      "execution_count": null,
      "outputs": [
        {
          "output_type": "stream",
          "text": [
            "Knn Classifier:  0.6477832512315271\n"
          ],
          "name": "stdout"
        },
        {
          "output_type": "display_data",
          "data": {
            "image/png": "[encoded data removed]",
            "text/plain": [
              "<Figure size 432x288 with 1 Axes>"
            ]
          },
          "metadata": {
            "tags": [],
            "needs_background": "light"
          }
        }
      ]
    },
    {
      "cell_type": "code",
      "metadata": {
        "colab": {
          "base_uri": "https://localhost:8080/",
          "height": 278
        },
        "id": "huSUrXZsX8ih",
        "outputId": "bd8deacd-1f3c-4a2f-e4f8-2491eef01f8a"
      },
      "source": [
        "viz = ConfusionMatrix(SVC(C= 1, gamma= 0.1, kernel= 'rbf'))\n",
        "viz.fit(X_train, y_train)\n",
        "print(\"SVM Classifier: \", viz.score(X_test, y_test))"
      ],
      "execution_count": null,
      "outputs": [
        {
          "output_type": "stream",
          "text": [
            "SVM Classifier:  0.6761083743842364\n"
          ],
          "name": "stdout"
        },
        {
          "output_type": "display_data",
          "data": {
            "image/png": "[encoded data removed]",
            "text/plain": [
              "<Figure size 432x288 with 1 Axes>"
            ]
          },
          "metadata": {
            "tags": [],
            "needs_background": "light"
          }
        }
      ]
    },
    {
      "cell_type": "code",
      "metadata": {
        "colab": {
          "base_uri": "https://localhost:8080/",
          "height": 278
        },
        "id": "UuSMtcsQS58t",
        "outputId": "bd80c1a1-0d00-470c-df1b-9812e8dcf38d"
      },
      "source": [
        "viz = ConfusionMatrix(GradientBoostingClassifier(max_features=max_features,learning_rate=lr))\n",
        "viz.fit(X_train, y_train)\n",
        "print(\"gradient boosting Classifier: \", viz.score(X_test, y_test))"
      ],
      "execution_count": null,
      "outputs": [
        {
          "output_type": "stream",
          "text": [
            "gradient boosting Classifier:  0.6847290640394089\n"
          ],
          "name": "stdout"
        },
        {
          "output_type": "display_data",
          "data": {
            "image/png": "[encoded data removed]",
            "text/plain": [
              "<Figure size 432x288 with 1 Axes>"
            ]
          },
          "metadata": {
            "tags": [],
            "needs_background": "light"
          }
        }
      ]
    },
    {
      "cell_type": "markdown",
      "metadata": {
        "id": "_KMykM06Ix5s"
      },
      "source": [
        "# In conclusion, we notice that the best model to predict patient re_admission was Logistic regression\n",
        "\n",
        "1.   Logistic Regression(accuracy score: 0.7)\n",
        "2.   Gradient boosting classifier(accuracy score: 0.684)\n",
        "3.   Random forest classifier(accuracy score: 0.679)\n",
        "4.   SVM classifier(accuracy score: 0.676)\n",
        "5.   Decision Tree classifier(accuracy score: 0.673)\n",
        "6.   Naive bayes classifier(accuracy score: 0.663)\n",
        "7.   Knn classifier(accuracy score: 0.647)\n"
      ]
    }
  ]
}